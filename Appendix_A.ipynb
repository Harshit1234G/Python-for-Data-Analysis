{
  "nbformat": 4,
  "nbformat_minor": 0,
  "metadata": {
    "colab": {
      "provenance": []
    },
    "kernelspec": {
      "name": "python3",
      "display_name": "Python 3"
    },
    "language_info": {
      "name": "python"
    }
  },
  "cells": [
    {
      "cell_type": "markdown",
      "source": [
        "# ndarray Object Internals\n",
        "np.ndarray object has the following attributes:\n",
        "- data pointer: Points to the block of memory\n",
        "- dtype: Datatype\n",
        "- shape: Shape of ndarray (tuple of dimensions)\n",
        "- strides: Stores the number of bytes to jump to next element in ndarray. Helps in creating memory efficient views of ndarray."
      ],
      "metadata": {
        "id": "8MBetAeckWUU"
      }
    },
    {
      "cell_type": "code",
      "source": [
        "import numpy as np"
      ],
      "metadata": {
        "id": "vbOLxCRrlXXY"
      },
      "execution_count": 1,
      "outputs": []
    },
    {
      "cell_type": "code",
      "source": [
        "arr = np.ones((10, 5))"
      ],
      "metadata": {
        "id": "e9WS3l0Zmby8"
      },
      "execution_count": 2,
      "outputs": []
    },
    {
      "cell_type": "code",
      "source": [
        "arr.shape"
      ],
      "metadata": {
        "colab": {
          "base_uri": "https://localhost:8080/"
        },
        "id": "aT2ooOlZme6-",
        "outputId": "deeea96b-669a-4951-82fa-d78145520928"
      },
      "execution_count": 3,
      "outputs": [
        {
          "output_type": "execute_result",
          "data": {
            "text/plain": [
              "(10, 5)"
            ]
          },
          "metadata": {},
          "execution_count": 3
        }
      ]
    },
    {
      "cell_type": "code",
      "source": [
        "arr.strides"
      ],
      "metadata": {
        "colab": {
          "base_uri": "https://localhost:8080/"
        },
        "id": "bp7SkBUfmfbt",
        "outputId": "000bd0ab-1d71-4331-819c-42b4f43f6c28"
      },
      "execution_count": 4,
      "outputs": [
        {
          "output_type": "execute_result",
          "data": {
            "text/plain": [
              "(40, 8)"
            ]
          },
          "metadata": {},
          "execution_count": 4
        }
      ]
    },
    {
      "cell_type": "code",
      "source": [
        "arr.dtype"
      ],
      "metadata": {
        "colab": {
          "base_uri": "https://localhost:8080/"
        },
        "id": "FYVBQwAXmjYt",
        "outputId": "ee0fc6a8-ec6a-4ceb-b567-faf0d3155f07"
      },
      "execution_count": 5,
      "outputs": [
        {
          "output_type": "execute_result",
          "data": {
            "text/plain": [
              "dtype('float64')"
            ]
          },
          "metadata": {},
          "execution_count": 5
        }
      ]
    },
    {
      "cell_type": "code",
      "source": [
        "arr.data"
      ],
      "metadata": {
        "colab": {
          "base_uri": "https://localhost:8080/"
        },
        "id": "5ry4t0Bzmkt-",
        "outputId": "57767d6d-b0c8-4e1e-afb6-939c072de582"
      },
      "execution_count": 6,
      "outputs": [
        {
          "output_type": "execute_result",
          "data": {
            "text/plain": [
              "<memory at 0x7bb420ea45f0>"
            ]
          },
          "metadata": {},
          "execution_count": 6
        }
      ]
    },
    {
      "cell_type": "code",
      "source": [
        "np.ones((3, 4, 5), dtype= 'float64').strides"
      ],
      "metadata": {
        "colab": {
          "base_uri": "https://localhost:8080/"
        },
        "id": "8j5f7irAml_C",
        "outputId": "8579f9c1-c700-4818-def9-6da4539026ce"
      },
      "execution_count": 7,
      "outputs": [
        {
          "output_type": "execute_result",
          "data": {
            "text/plain": [
              "(160, 40, 8)"
            ]
          },
          "metadata": {},
          "execution_count": 7
        }
      ]
    },
    {
      "cell_type": "markdown",
      "source": [
        "## NumPy Data Type Hierarchy"
      ],
      "metadata": {
        "id": "hal0dVZQn1CE"
      }
    },
    {
      "cell_type": "code",
      "source": [
        "ints = np.ones(10, dtype = 'uint8')"
      ],
      "metadata": {
        "id": "P4D2TD0yoDnF"
      },
      "execution_count": 8,
      "outputs": []
    },
    {
      "cell_type": "code",
      "source": [
        "floats = np.ones(10, dtype= 'float32')"
      ],
      "metadata": {
        "id": "sKHM7_taokvw"
      },
      "execution_count": 9,
      "outputs": []
    },
    {
      "cell_type": "code",
      "source": [
        "np.issubdtype(ints.dtype, np.integer)"
      ],
      "metadata": {
        "colab": {
          "base_uri": "https://localhost:8080/"
        },
        "id": "HfTYZTgJonQ6",
        "outputId": "f99bb89d-1e42-4ae2-c812-13833e0bf97b"
      },
      "execution_count": 10,
      "outputs": [
        {
          "output_type": "execute_result",
          "data": {
            "text/plain": [
              "True"
            ]
          },
          "metadata": {},
          "execution_count": 10
        }
      ]
    },
    {
      "cell_type": "code",
      "source": [
        "np.issubdtype(floats.dtype, np.floating)"
      ],
      "metadata": {
        "colab": {
          "base_uri": "https://localhost:8080/"
        },
        "id": "whfLchcMoqCF",
        "outputId": "b7521c52-d4fd-4842-8218-bdbc7ca7e73a"
      },
      "execution_count": 11,
      "outputs": [
        {
          "output_type": "execute_result",
          "data": {
            "text/plain": [
              "True"
            ]
          },
          "metadata": {},
          "execution_count": 11
        }
      ]
    },
    {
      "cell_type": "code",
      "source": [
        "np.float64.mro()"
      ],
      "metadata": {
        "colab": {
          "base_uri": "https://localhost:8080/"
        },
        "id": "JfFMnRixo6CO",
        "outputId": "e68060be-c4c8-4f7c-c07c-b6d75b995e1a"
      },
      "execution_count": 12,
      "outputs": [
        {
          "output_type": "execute_result",
          "data": {
            "text/plain": [
              "[numpy.float64,\n",
              " numpy.floating,\n",
              " numpy.inexact,\n",
              " numpy.number,\n",
              " numpy.generic,\n",
              " float,\n",
              " object]"
            ]
          },
          "metadata": {},
          "execution_count": 12
        }
      ]
    },
    {
      "cell_type": "code",
      "source": [
        "np.issubdtype(ints.dtype, np.number)"
      ],
      "metadata": {
        "colab": {
          "base_uri": "https://localhost:8080/"
        },
        "id": "EmAur0gbpALz",
        "outputId": "e3eab598-c9bd-4bf0-94b6-5a56a5831ebf"
      },
      "execution_count": 13,
      "outputs": [
        {
          "output_type": "execute_result",
          "data": {
            "text/plain": [
              "True"
            ]
          },
          "metadata": {},
          "execution_count": 13
        }
      ]
    },
    {
      "cell_type": "markdown",
      "source": [
        "# Advanced Array Manipulation\n",
        "## Reshaping Arrays"
      ],
      "metadata": {
        "id": "nmbzSl12pNjn"
      }
    },
    {
      "cell_type": "code",
      "source": [
        "arr = np.arange(12)"
      ],
      "metadata": {
        "id": "WNnmh0fXplaN"
      },
      "execution_count": 14,
      "outputs": []
    },
    {
      "cell_type": "code",
      "source": [
        "arr"
      ],
      "metadata": {
        "colab": {
          "base_uri": "https://localhost:8080/"
        },
        "id": "U3FSaxqTVMVs",
        "outputId": "2bf43747-6cff-4b8d-87f6-7c52bce3667d"
      },
      "execution_count": 15,
      "outputs": [
        {
          "output_type": "execute_result",
          "data": {
            "text/plain": [
              "array([ 0,  1,  2,  3,  4,  5,  6,  7,  8,  9, 10, 11])"
            ]
          },
          "metadata": {},
          "execution_count": 15
        }
      ]
    },
    {
      "cell_type": "code",
      "source": [
        "arr.reshape((4, 3), order= 'F')     # fortran order"
      ],
      "metadata": {
        "colab": {
          "base_uri": "https://localhost:8080/"
        },
        "id": "MVUEenSJVMv3",
        "outputId": "da0ea6f9-e541-4584-b23a-5a898b8fbf70"
      },
      "execution_count": 16,
      "outputs": [
        {
          "output_type": "execute_result",
          "data": {
            "text/plain": [
              "array([[ 0,  4,  8],\n",
              "       [ 1,  5,  9],\n",
              "       [ 2,  6, 10],\n",
              "       [ 3,  7, 11]])"
            ]
          },
          "metadata": {},
          "execution_count": 16
        }
      ]
    },
    {
      "cell_type": "code",
      "source": [
        "arr.reshape((4, 3), order= 'C')     # C order"
      ],
      "metadata": {
        "colab": {
          "base_uri": "https://localhost:8080/"
        },
        "id": "M13IB4g6VRPB",
        "outputId": "8e08273b-0d32-45a3-a6b2-ee83a57f8001"
      },
      "execution_count": 17,
      "outputs": [
        {
          "output_type": "execute_result",
          "data": {
            "text/plain": [
              "array([[ 0,  1,  2],\n",
              "       [ 3,  4,  5],\n",
              "       [ 6,  7,  8],\n",
              "       [ 9, 10, 11]])"
            ]
          },
          "metadata": {},
          "execution_count": 17
        }
      ]
    },
    {
      "cell_type": "code",
      "source": [
        "arr.reshape((4, 3)).reshape((2, 6))"
      ],
      "metadata": {
        "colab": {
          "base_uri": "https://localhost:8080/"
        },
        "id": "eLSkuUrkVYpm",
        "outputId": "a4b83f6e-c453-4d49-925d-94faeb735fd4"
      },
      "execution_count": 18,
      "outputs": [
        {
          "output_type": "execute_result",
          "data": {
            "text/plain": [
              "array([[ 0,  1,  2,  3,  4,  5],\n",
              "       [ 6,  7,  8,  9, 10, 11]])"
            ]
          },
          "metadata": {},
          "execution_count": 18
        }
      ]
    },
    {
      "cell_type": "code",
      "source": [
        "arr = np.arange(15)"
      ],
      "metadata": {
        "id": "mdCuvSFtVfxO"
      },
      "execution_count": 19,
      "outputs": []
    },
    {
      "cell_type": "code",
      "source": [
        "arr"
      ],
      "metadata": {
        "colab": {
          "base_uri": "https://localhost:8080/"
        },
        "id": "1G0iRj82V5pd",
        "outputId": "187baff9-c448-491c-9302-5977315c3120"
      },
      "execution_count": 20,
      "outputs": [
        {
          "output_type": "execute_result",
          "data": {
            "text/plain": [
              "array([ 0,  1,  2,  3,  4,  5,  6,  7,  8,  9, 10, 11, 12, 13, 14])"
            ]
          },
          "metadata": {},
          "execution_count": 20
        }
      ]
    },
    {
      "cell_type": "code",
      "source": [
        "arr.reshape((5, -1))"
      ],
      "metadata": {
        "colab": {
          "base_uri": "https://localhost:8080/"
        },
        "id": "fNK4kFLWV59W",
        "outputId": "4d69140b-2f6c-4bf1-f805-466c99367d69"
      },
      "execution_count": 21,
      "outputs": [
        {
          "output_type": "execute_result",
          "data": {
            "text/plain": [
              "array([[ 0,  1,  2],\n",
              "       [ 3,  4,  5],\n",
              "       [ 6,  7,  8],\n",
              "       [ 9, 10, 11],\n",
              "       [12, 13, 14]])"
            ]
          },
          "metadata": {},
          "execution_count": 21
        }
      ]
    },
    {
      "cell_type": "code",
      "source": [
        "other_arr = np.ones((3, 5))"
      ],
      "metadata": {
        "id": "1_WO4iVEV79l"
      },
      "execution_count": 22,
      "outputs": []
    },
    {
      "cell_type": "code",
      "source": [
        "arr.reshape(other_arr.shape)"
      ],
      "metadata": {
        "colab": {
          "base_uri": "https://localhost:8080/"
        },
        "id": "rCh7yli6V95K",
        "outputId": "75aa21cc-75b6-4d71-9868-60235d6f63d7"
      },
      "execution_count": 23,
      "outputs": [
        {
          "output_type": "execute_result",
          "data": {
            "text/plain": [
              "array([[ 0,  1,  2,  3,  4],\n",
              "       [ 5,  6,  7,  8,  9],\n",
              "       [10, 11, 12, 13, 14]])"
            ]
          },
          "metadata": {},
          "execution_count": 23
        }
      ]
    },
    {
      "cell_type": "code",
      "source": [
        "arr = np.arange(15).reshape((3, 5))"
      ],
      "metadata": {
        "id": "HIGWhSn8WNL2"
      },
      "execution_count": 24,
      "outputs": []
    },
    {
      "cell_type": "code",
      "source": [
        "arr"
      ],
      "metadata": {
        "colab": {
          "base_uri": "https://localhost:8080/"
        },
        "id": "cxaI5CeKWfKS",
        "outputId": "6743ed25-1c76-4a8e-9639-a1f7b3419b64"
      },
      "execution_count": 25,
      "outputs": [
        {
          "output_type": "execute_result",
          "data": {
            "text/plain": [
              "array([[ 0,  1,  2,  3,  4],\n",
              "       [ 5,  6,  7,  8,  9],\n",
              "       [10, 11, 12, 13, 14]])"
            ]
          },
          "metadata": {},
          "execution_count": 25
        }
      ]
    },
    {
      "cell_type": "code",
      "source": [
        "arr.ravel()    # doesnot give a copy"
      ],
      "metadata": {
        "colab": {
          "base_uri": "https://localhost:8080/"
        },
        "id": "c5hXHPgbWg_5",
        "outputId": "718c481a-4919-489a-9e7a-41df0739c10f"
      },
      "execution_count": 26,
      "outputs": [
        {
          "output_type": "execute_result",
          "data": {
            "text/plain": [
              "array([ 0,  1,  2,  3,  4,  5,  6,  7,  8,  9, 10, 11, 12, 13, 14])"
            ]
          },
          "metadata": {},
          "execution_count": 26
        }
      ]
    },
    {
      "cell_type": "code",
      "source": [
        "arr.flatten()    # Always gives a copy"
      ],
      "metadata": {
        "colab": {
          "base_uri": "https://localhost:8080/"
        },
        "id": "k9k8ANerWjQl",
        "outputId": "5c23fd78-6731-4fc2-aee9-32f294b1a0ec"
      },
      "execution_count": 27,
      "outputs": [
        {
          "output_type": "execute_result",
          "data": {
            "text/plain": [
              "array([ 0,  1,  2,  3,  4,  5,  6,  7,  8,  9, 10, 11, 12, 13, 14])"
            ]
          },
          "metadata": {},
          "execution_count": 27
        }
      ]
    },
    {
      "cell_type": "markdown",
      "source": [
        "## Concatenating and Splitting Arrays"
      ],
      "metadata": {
        "id": "grwGsfDlWry-"
      }
    },
    {
      "cell_type": "code",
      "source": [
        "arr1 = np.array(\n",
        "    [\n",
        "        [1, 2, 3],\n",
        "        [4, 5, 6]\n",
        "    ]\n",
        ")"
      ],
      "metadata": {
        "id": "IAzp5REmW38W"
      },
      "execution_count": 28,
      "outputs": []
    },
    {
      "cell_type": "code",
      "source": [
        "arr2 = np.array(\n",
        "    [\n",
        "        [7, 8, 9],\n",
        "        [10, 11, 12]\n",
        "    ]\n",
        ")"
      ],
      "metadata": {
        "id": "NU70wLaWXcUc"
      },
      "execution_count": 29,
      "outputs": []
    },
    {
      "cell_type": "code",
      "source": [
        "np.concatenate([arr1, arr2])"
      ],
      "metadata": {
        "colab": {
          "base_uri": "https://localhost:8080/"
        },
        "id": "VsWtliUbXfgr",
        "outputId": "f6d1ca9d-0a25-492f-ecbe-7a90bc2c3660"
      },
      "execution_count": 30,
      "outputs": [
        {
          "output_type": "execute_result",
          "data": {
            "text/plain": [
              "array([[ 1,  2,  3],\n",
              "       [ 4,  5,  6],\n",
              "       [ 7,  8,  9],\n",
              "       [10, 11, 12]])"
            ]
          },
          "metadata": {},
          "execution_count": 30
        }
      ]
    },
    {
      "cell_type": "code",
      "source": [
        "np.concatenate([arr1, arr2], axis= 1)"
      ],
      "metadata": {
        "colab": {
          "base_uri": "https://localhost:8080/"
        },
        "id": "e4zbuA0TXh0k",
        "outputId": "80f3df7d-85fc-472f-fe5c-152f53d7ec53"
      },
      "execution_count": 31,
      "outputs": [
        {
          "output_type": "execute_result",
          "data": {
            "text/plain": [
              "array([[ 1,  2,  3,  7,  8,  9],\n",
              "       [ 4,  5,  6, 10, 11, 12]])"
            ]
          },
          "metadata": {},
          "execution_count": 31
        }
      ]
    },
    {
      "cell_type": "code",
      "source": [
        "np.vstack((arr1, arr2))"
      ],
      "metadata": {
        "colab": {
          "base_uri": "https://localhost:8080/"
        },
        "id": "aOIzRuEEXqCk",
        "outputId": "a24a3a4b-5e67-4e91-8210-04d45abb8017"
      },
      "execution_count": 32,
      "outputs": [
        {
          "output_type": "execute_result",
          "data": {
            "text/plain": [
              "array([[ 1,  2,  3],\n",
              "       [ 4,  5,  6],\n",
              "       [ 7,  8,  9],\n",
              "       [10, 11, 12]])"
            ]
          },
          "metadata": {},
          "execution_count": 32
        }
      ]
    },
    {
      "cell_type": "code",
      "source": [
        "np.hstack((arr1, arr2))"
      ],
      "metadata": {
        "colab": {
          "base_uri": "https://localhost:8080/"
        },
        "id": "HdwzvO83XwNZ",
        "outputId": "50b7d5f4-d9a6-4bd9-f675-f1d84dbc86df"
      },
      "execution_count": 33,
      "outputs": [
        {
          "output_type": "execute_result",
          "data": {
            "text/plain": [
              "array([[ 1,  2,  3,  7,  8,  9],\n",
              "       [ 4,  5,  6, 10, 11, 12]])"
            ]
          },
          "metadata": {},
          "execution_count": 33
        }
      ]
    },
    {
      "cell_type": "code",
      "source": [
        "arr = np.random.standard_normal((6, 2))"
      ],
      "metadata": {
        "id": "NSkKcnboXxRQ"
      },
      "execution_count": 34,
      "outputs": []
    },
    {
      "cell_type": "code",
      "source": [
        "arr"
      ],
      "metadata": {
        "colab": {
          "base_uri": "https://localhost:8080/"
        },
        "id": "FaJUG-2zX2D0",
        "outputId": "c4210ee0-96db-4cbc-94ad-8397f17ebb27"
      },
      "execution_count": 35,
      "outputs": [
        {
          "output_type": "execute_result",
          "data": {
            "text/plain": [
              "array([[ 0.54156089, -0.17162157],\n",
              "       [ 0.20630263,  0.88763421],\n",
              "       [ 2.14159198, -0.37729095],\n",
              "       [-1.81867482, -1.55000205],\n",
              "       [-0.3856897 , -0.51358811],\n",
              "       [ 0.7595464 ,  0.84743584]])"
            ]
          },
          "metadata": {},
          "execution_count": 35
        }
      ]
    },
    {
      "cell_type": "code",
      "source": [
        "first, second, third = np.split(arr, [1, 3])"
      ],
      "metadata": {
        "id": "2CUfi8YIX2Xb"
      },
      "execution_count": 36,
      "outputs": []
    },
    {
      "cell_type": "code",
      "source": [
        "first"
      ],
      "metadata": {
        "colab": {
          "base_uri": "https://localhost:8080/"
        },
        "id": "qP8g9SZGX8CC",
        "outputId": "0447d791-38f3-43c0-d801-fd5d6224d7e7"
      },
      "execution_count": 37,
      "outputs": [
        {
          "output_type": "execute_result",
          "data": {
            "text/plain": [
              "array([[ 0.54156089, -0.17162157]])"
            ]
          },
          "metadata": {},
          "execution_count": 37
        }
      ]
    },
    {
      "cell_type": "code",
      "source": [
        "second"
      ],
      "metadata": {
        "colab": {
          "base_uri": "https://localhost:8080/"
        },
        "id": "L_7-FK69X90m",
        "outputId": "cc19a8a4-5e86-4eb2-8aea-419318da5a88"
      },
      "execution_count": 38,
      "outputs": [
        {
          "output_type": "execute_result",
          "data": {
            "text/plain": [
              "array([[ 0.20630263,  0.88763421],\n",
              "       [ 2.14159198, -0.37729095]])"
            ]
          },
          "metadata": {},
          "execution_count": 38
        }
      ]
    },
    {
      "cell_type": "code",
      "source": [
        "third"
      ],
      "metadata": {
        "colab": {
          "base_uri": "https://localhost:8080/"
        },
        "id": "pbIzBIoYX-J4",
        "outputId": "bf6ffbab-101c-4c26-9a96-a3f28899e11d"
      },
      "execution_count": 39,
      "outputs": [
        {
          "output_type": "execute_result",
          "data": {
            "text/plain": [
              "array([[-1.81867482, -1.55000205],\n",
              "       [-0.3856897 , -0.51358811],\n",
              "       [ 0.7595464 ,  0.84743584]])"
            ]
          },
          "metadata": {},
          "execution_count": 39
        }
      ]
    },
    {
      "cell_type": "code",
      "source": [
        "np.split(arr, 2)"
      ],
      "metadata": {
        "colab": {
          "base_uri": "https://localhost:8080/"
        },
        "id": "WmZZPphzX-0L",
        "outputId": "aee531fb-5e89-4207-9842-db51aadf85d7"
      },
      "execution_count": 40,
      "outputs": [
        {
          "output_type": "execute_result",
          "data": {
            "text/plain": [
              "[array([[ 0.54156089, -0.17162157],\n",
              "        [ 0.20630263,  0.88763421],\n",
              "        [ 2.14159198, -0.37729095]]),\n",
              " array([[-1.81867482, -1.55000205],\n",
              "        [-0.3856897 , -0.51358811],\n",
              "        [ 0.7595464 ,  0.84743584]])]"
            ]
          },
          "metadata": {},
          "execution_count": 40
        }
      ]
    },
    {
      "cell_type": "code",
      "source": [
        "np.split(arr, 3)"
      ],
      "metadata": {
        "colab": {
          "base_uri": "https://localhost:8080/"
        },
        "id": "qkl4pY45Ych4",
        "outputId": "77b0ecbe-f412-4875-8870-4f449e883348"
      },
      "execution_count": 41,
      "outputs": [
        {
          "output_type": "execute_result",
          "data": {
            "text/plain": [
              "[array([[ 0.54156089, -0.17162157],\n",
              "        [ 0.20630263,  0.88763421]]),\n",
              " array([[ 2.14159198, -0.37729095],\n",
              "        [-1.81867482, -1.55000205]]),\n",
              " array([[-0.3856897 , -0.51358811],\n",
              "        [ 0.7595464 ,  0.84743584]])]"
            ]
          },
          "metadata": {},
          "execution_count": 41
        }
      ]
    },
    {
      "cell_type": "code",
      "source": [
        "np.split(arr, [1, 2, 5])"
      ],
      "metadata": {
        "colab": {
          "base_uri": "https://localhost:8080/"
        },
        "id": "Z0iZEmvMYmNZ",
        "outputId": "53980a31-3125-4089-d510-65817c90018a"
      },
      "execution_count": 42,
      "outputs": [
        {
          "output_type": "execute_result",
          "data": {
            "text/plain": [
              "[array([[ 0.54156089, -0.17162157]]),\n",
              " array([[0.20630263, 0.88763421]]),\n",
              " array([[ 2.14159198, -0.37729095],\n",
              "        [-1.81867482, -1.55000205],\n",
              "        [-0.3856897 , -0.51358811]]),\n",
              " array([[0.7595464 , 0.84743584]])]"
            ]
          },
          "metadata": {},
          "execution_count": 42
        }
      ]
    },
    {
      "cell_type": "code",
      "source": [
        "np.row_stack((arr1, arr2))"
      ],
      "metadata": {
        "colab": {
          "base_uri": "https://localhost:8080/"
        },
        "id": "6f2yG1F6ZAZ-",
        "outputId": "7e01e5a2-7306-4b9c-b1b0-9b16cd291efd"
      },
      "execution_count": 43,
      "outputs": [
        {
          "output_type": "execute_result",
          "data": {
            "text/plain": [
              "array([[ 1,  2,  3],\n",
              "       [ 4,  5,  6],\n",
              "       [ 7,  8,  9],\n",
              "       [10, 11, 12]])"
            ]
          },
          "metadata": {},
          "execution_count": 43
        }
      ]
    },
    {
      "cell_type": "code",
      "source": [
        "np.column_stack((arr1, arr2))"
      ],
      "metadata": {
        "colab": {
          "base_uri": "https://localhost:8080/"
        },
        "id": "EpobDo4FZOxG",
        "outputId": "f60f0fb3-6a08-4093-896e-11cb27a8f4da"
      },
      "execution_count": 44,
      "outputs": [
        {
          "output_type": "execute_result",
          "data": {
            "text/plain": [
              "array([[ 1,  2,  3,  7,  8,  9],\n",
              "       [ 4,  5,  6, 10, 11, 12]])"
            ]
          },
          "metadata": {},
          "execution_count": 44
        }
      ]
    },
    {
      "cell_type": "code",
      "source": [
        "np.dstack((arr1, arr2))"
      ],
      "metadata": {
        "colab": {
          "base_uri": "https://localhost:8080/"
        },
        "id": "XbpS_PclZX0b",
        "outputId": "216f7c05-f902-45b3-c956-7c346d936ee7"
      },
      "execution_count": 45,
      "outputs": [
        {
          "output_type": "execute_result",
          "data": {
            "text/plain": [
              "array([[[ 1,  7],\n",
              "        [ 2,  8],\n",
              "        [ 3,  9]],\n",
              "\n",
              "       [[ 4, 10],\n",
              "        [ 5, 11],\n",
              "        [ 6, 12]]])"
            ]
          },
          "metadata": {},
          "execution_count": 45
        }
      ]
    },
    {
      "cell_type": "code",
      "source": [
        "np.hsplit(arr, 2)"
      ],
      "metadata": {
        "colab": {
          "base_uri": "https://localhost:8080/"
        },
        "id": "UT5__jbuZdHn",
        "outputId": "3988388a-7160-4b89-d14c-69044523ef94"
      },
      "execution_count": 46,
      "outputs": [
        {
          "output_type": "execute_result",
          "data": {
            "text/plain": [
              "[array([[ 0.54156089],\n",
              "        [ 0.20630263],\n",
              "        [ 2.14159198],\n",
              "        [-1.81867482],\n",
              "        [-0.3856897 ],\n",
              "        [ 0.7595464 ]]),\n",
              " array([[-0.17162157],\n",
              "        [ 0.88763421],\n",
              "        [-0.37729095],\n",
              "        [-1.55000205],\n",
              "        [-0.51358811],\n",
              "        [ 0.84743584]])]"
            ]
          },
          "metadata": {},
          "execution_count": 46
        }
      ]
    },
    {
      "cell_type": "code",
      "source": [
        "np.vsplit(arr, 2)"
      ],
      "metadata": {
        "colab": {
          "base_uri": "https://localhost:8080/"
        },
        "id": "RC31YzKKZjHh",
        "outputId": "1883350f-1e2d-481e-c7cf-427cf244ecab"
      },
      "execution_count": 47,
      "outputs": [
        {
          "output_type": "execute_result",
          "data": {
            "text/plain": [
              "[array([[ 0.54156089, -0.17162157],\n",
              "        [ 0.20630263,  0.88763421],\n",
              "        [ 2.14159198, -0.37729095]]),\n",
              " array([[-1.81867482, -1.55000205],\n",
              "        [-0.3856897 , -0.51358811],\n",
              "        [ 0.7595464 ,  0.84743584]])]"
            ]
          },
          "metadata": {},
          "execution_count": 47
        }
      ]
    },
    {
      "cell_type": "markdown",
      "source": [
        "###Stacking helpers: r_ and c_"
      ],
      "metadata": {
        "id": "Ao-SKG5rZld2"
      }
    },
    {
      "cell_type": "code",
      "source": [
        "arr1 = np.arange(6).reshape((3, 2))"
      ],
      "metadata": {
        "id": "C7qAFiOEZrFH"
      },
      "execution_count": 48,
      "outputs": []
    },
    {
      "cell_type": "code",
      "source": [
        "arr2 = np.random.standard_normal((3, 2))"
      ],
      "metadata": {
        "id": "sdePgb6gZ4hG"
      },
      "execution_count": 49,
      "outputs": []
    },
    {
      "cell_type": "code",
      "source": [
        "arr1"
      ],
      "metadata": {
        "colab": {
          "base_uri": "https://localhost:8080/"
        },
        "id": "xNzXu9QcbZ46",
        "outputId": "7ee98db2-2f5a-44b3-cfeb-aca163968eee"
      },
      "execution_count": 50,
      "outputs": [
        {
          "output_type": "execute_result",
          "data": {
            "text/plain": [
              "array([[0, 1],\n",
              "       [2, 3],\n",
              "       [4, 5]])"
            ]
          },
          "metadata": {},
          "execution_count": 50
        }
      ]
    },
    {
      "cell_type": "code",
      "source": [
        "arr2"
      ],
      "metadata": {
        "colab": {
          "base_uri": "https://localhost:8080/"
        },
        "id": "nNEzvX08baX_",
        "outputId": "d3a67b0c-4c08-47c8-c873-90c93cfb85f8"
      },
      "execution_count": 51,
      "outputs": [
        {
          "output_type": "execute_result",
          "data": {
            "text/plain": [
              "array([[-0.81247872, -0.58376553],\n",
              "       [-0.1179163 , -0.46507587],\n",
              "       [-0.54774526,  1.27354492]])"
            ]
          },
          "metadata": {},
          "execution_count": 51
        }
      ]
    },
    {
      "cell_type": "code",
      "source": [
        "np.r_[arr1, arr2]   #direct horizontal stacking"
      ],
      "metadata": {
        "colab": {
          "base_uri": "https://localhost:8080/"
        },
        "id": "FV7W2nWobaow",
        "outputId": "106d6b45-fe08-4fa4-d6d6-9bdd2318bac8"
      },
      "execution_count": 52,
      "outputs": [
        {
          "output_type": "execute_result",
          "data": {
            "text/plain": [
              "array([[ 0.        ,  1.        ],\n",
              "       [ 2.        ,  3.        ],\n",
              "       [ 4.        ,  5.        ],\n",
              "       [-0.81247872, -0.58376553],\n",
              "       [-0.1179163 , -0.46507587],\n",
              "       [-0.54774526,  1.27354492]])"
            ]
          },
          "metadata": {},
          "execution_count": 52
        }
      ]
    },
    {
      "cell_type": "code",
      "source": [
        "np.c_[arr1, arr2]   #direct vertical stacking"
      ],
      "metadata": {
        "colab": {
          "base_uri": "https://localhost:8080/"
        },
        "id": "chh12N1YbcZg",
        "outputId": "6fcd8a28-83a8-4db6-ff87-51a91445b0e0"
      },
      "execution_count": 53,
      "outputs": [
        {
          "output_type": "execute_result",
          "data": {
            "text/plain": [
              "array([[ 0.        ,  1.        , -0.81247872, -0.58376553],\n",
              "       [ 2.        ,  3.        , -0.1179163 , -0.46507587],\n",
              "       [ 4.        ,  5.        , -0.54774526,  1.27354492]])"
            ]
          },
          "metadata": {},
          "execution_count": 53
        }
      ]
    },
    {
      "cell_type": "code",
      "source": [
        "np.c_[np.r_[arr1, arr2], np.arange(6)]"
      ],
      "metadata": {
        "colab": {
          "base_uri": "https://localhost:8080/"
        },
        "id": "6L6mu9kXbiJ0",
        "outputId": "2225b81b-32f9-4f94-df5b-ecad452b0390"
      },
      "execution_count": 54,
      "outputs": [
        {
          "output_type": "execute_result",
          "data": {
            "text/plain": [
              "array([[ 0.        ,  1.        ,  0.        ],\n",
              "       [ 2.        ,  3.        ,  1.        ],\n",
              "       [ 4.        ,  5.        ,  2.        ],\n",
              "       [-0.81247872, -0.58376553,  3.        ],\n",
              "       [-0.1179163 , -0.46507587,  4.        ],\n",
              "       [-0.54774526,  1.27354492,  5.        ]])"
            ]
          },
          "metadata": {},
          "execution_count": 54
        }
      ]
    },
    {
      "cell_type": "code",
      "source": [
        "np.c_[1:6, -10:-1:2]     #translates slices to arrays"
      ],
      "metadata": {
        "colab": {
          "base_uri": "https://localhost:8080/"
        },
        "id": "DG8Wu05zbuTy",
        "outputId": "0ddb4d6d-c81e-413d-da14-375e404050af"
      },
      "execution_count": 55,
      "outputs": [
        {
          "output_type": "execute_result",
          "data": {
            "text/plain": [
              "array([[  1, -10],\n",
              "       [  2,  -8],\n",
              "       [  3,  -6],\n",
              "       [  4,  -4],\n",
              "       [  5,  -2]])"
            ]
          },
          "metadata": {},
          "execution_count": 55
        }
      ]
    },
    {
      "cell_type": "markdown",
      "source": [
        "## Repeating Elements: tile and repeat"
      ],
      "metadata": {
        "id": "TqwzfaVcccIY"
      }
    },
    {
      "cell_type": "code",
      "source": [
        "arr = np.arange(3)"
      ],
      "metadata": {
        "id": "ZOfBLzqNcjXv"
      },
      "execution_count": 56,
      "outputs": []
    },
    {
      "cell_type": "code",
      "source": [
        "arr"
      ],
      "metadata": {
        "colab": {
          "base_uri": "https://localhost:8080/"
        },
        "id": "JDozmYCTc0ll",
        "outputId": "a89ab819-989a-4039-c0bf-d4906a54e062"
      },
      "execution_count": 57,
      "outputs": [
        {
          "output_type": "execute_result",
          "data": {
            "text/plain": [
              "array([0, 1, 2])"
            ]
          },
          "metadata": {},
          "execution_count": 57
        }
      ]
    },
    {
      "cell_type": "code",
      "source": [
        "arr.repeat(3)"
      ],
      "metadata": {
        "colab": {
          "base_uri": "https://localhost:8080/"
        },
        "id": "uwDS4gxyc1Jg",
        "outputId": "c2a8887e-96ca-41ad-968f-b5ebb57942a7"
      },
      "execution_count": 58,
      "outputs": [
        {
          "output_type": "execute_result",
          "data": {
            "text/plain": [
              "array([0, 0, 0, 1, 1, 1, 2, 2, 2])"
            ]
          },
          "metadata": {},
          "execution_count": 58
        }
      ]
    },
    {
      "cell_type": "code",
      "source": [
        "arr.repeat([2, 3, 4])"
      ],
      "metadata": {
        "colab": {
          "base_uri": "https://localhost:8080/"
        },
        "id": "UjTFxpb4c2vR",
        "outputId": "f05495e3-960b-4bf2-f70c-7246c827b856"
      },
      "execution_count": 59,
      "outputs": [
        {
          "output_type": "execute_result",
          "data": {
            "text/plain": [
              "array([0, 0, 1, 1, 1, 2, 2, 2, 2])"
            ]
          },
          "metadata": {},
          "execution_count": 59
        }
      ]
    },
    {
      "cell_type": "code",
      "source": [
        "arr = np.arange(4).reshape((2, 2))"
      ],
      "metadata": {
        "id": "7UO9Mbc8e7M7"
      },
      "execution_count": 60,
      "outputs": []
    },
    {
      "cell_type": "code",
      "source": [
        "arr.repeat(2, axis= 0)"
      ],
      "metadata": {
        "colab": {
          "base_uri": "https://localhost:8080/"
        },
        "id": "VW5crlTEfDIJ",
        "outputId": "dcaabfc2-d59a-4e5d-80c6-7010ecff061b"
      },
      "execution_count": 61,
      "outputs": [
        {
          "output_type": "execute_result",
          "data": {
            "text/plain": [
              "array([[0, 1],\n",
              "       [0, 1],\n",
              "       [2, 3],\n",
              "       [2, 3]])"
            ]
          },
          "metadata": {},
          "execution_count": 61
        }
      ]
    },
    {
      "cell_type": "code",
      "source": [
        "arr.repeat(2, axis= 1)"
      ],
      "metadata": {
        "colab": {
          "base_uri": "https://localhost:8080/"
        },
        "id": "8dey47eNfEz9",
        "outputId": "ccb4b42d-33cd-40a8-c53b-3b776811e0cb"
      },
      "execution_count": 62,
      "outputs": [
        {
          "output_type": "execute_result",
          "data": {
            "text/plain": [
              "array([[0, 0, 1, 1],\n",
              "       [2, 2, 3, 3]])"
            ]
          },
          "metadata": {},
          "execution_count": 62
        }
      ]
    },
    {
      "cell_type": "code",
      "source": [
        "arr.repeat([2, 3], axis= 0)"
      ],
      "metadata": {
        "colab": {
          "base_uri": "https://localhost:8080/"
        },
        "id": "jQ_usomvfJ4h",
        "outputId": "b453d08d-c52f-4869-9942-43ba8736b77f"
      },
      "execution_count": 63,
      "outputs": [
        {
          "output_type": "execute_result",
          "data": {
            "text/plain": [
              "array([[0, 1],\n",
              "       [0, 1],\n",
              "       [2, 3],\n",
              "       [2, 3],\n",
              "       [2, 3]])"
            ]
          },
          "metadata": {},
          "execution_count": 63
        }
      ]
    },
    {
      "cell_type": "code",
      "source": [
        "arr.repeat([2, 3], axis= 1)"
      ],
      "metadata": {
        "colab": {
          "base_uri": "https://localhost:8080/"
        },
        "id": "HhYHWUznfRtY",
        "outputId": "7f5461ff-1615-45a8-9948-3706b615b2a4"
      },
      "execution_count": 64,
      "outputs": [
        {
          "output_type": "execute_result",
          "data": {
            "text/plain": [
              "array([[0, 0, 1, 1, 1],\n",
              "       [2, 2, 3, 3, 3]])"
            ]
          },
          "metadata": {},
          "execution_count": 64
        }
      ]
    },
    {
      "cell_type": "code",
      "source": [
        "np.tile(arr, 3)"
      ],
      "metadata": {
        "colab": {
          "base_uri": "https://localhost:8080/"
        },
        "id": "Qq-KBmzWfU7-",
        "outputId": "76f406d2-27e8-45bc-d1e9-6db5c8aa4027"
      },
      "execution_count": 65,
      "outputs": [
        {
          "output_type": "execute_result",
          "data": {
            "text/plain": [
              "array([[0, 1, 0, 1, 0, 1],\n",
              "       [2, 3, 2, 3, 2, 3]])"
            ]
          },
          "metadata": {},
          "execution_count": 65
        }
      ]
    },
    {
      "cell_type": "code",
      "source": [
        "np.tile(arr, [2, 1])"
      ],
      "metadata": {
        "colab": {
          "base_uri": "https://localhost:8080/"
        },
        "id": "EK_9x0wxfbqi",
        "outputId": "8ebcaa57-a861-4700-87f8-259e9d38cb27"
      },
      "execution_count": 66,
      "outputs": [
        {
          "output_type": "execute_result",
          "data": {
            "text/plain": [
              "array([[0, 1],\n",
              "       [2, 3],\n",
              "       [0, 1],\n",
              "       [2, 3]])"
            ]
          },
          "metadata": {},
          "execution_count": 66
        }
      ]
    },
    {
      "cell_type": "code",
      "source": [
        "np.tile(arr, (2, 3))"
      ],
      "metadata": {
        "colab": {
          "base_uri": "https://localhost:8080/"
        },
        "id": "32FGyEBEfkv_",
        "outputId": "acf0d0bb-2405-4467-bd40-df025c7f96af"
      },
      "execution_count": 67,
      "outputs": [
        {
          "output_type": "execute_result",
          "data": {
            "text/plain": [
              "array([[0, 1, 0, 1, 0, 1],\n",
              "       [2, 3, 2, 3, 2, 3],\n",
              "       [0, 1, 0, 1, 0, 1],\n",
              "       [2, 3, 2, 3, 2, 3]])"
            ]
          },
          "metadata": {},
          "execution_count": 67
        }
      ]
    },
    {
      "cell_type": "markdown",
      "source": [
        "## Fancy Indexing Equivalents: take and put"
      ],
      "metadata": {
        "id": "5k37WGq8f6Xy"
      }
    },
    {
      "cell_type": "code",
      "source": [
        "arr = np.arange(10) * 100"
      ],
      "metadata": {
        "id": "s8KNKRAQf-JS"
      },
      "execution_count": 68,
      "outputs": []
    },
    {
      "cell_type": "code",
      "source": [
        "arr"
      ],
      "metadata": {
        "colab": {
          "base_uri": "https://localhost:8080/"
        },
        "id": "SmpzeSLQgT7z",
        "outputId": "2386e92e-d1a0-4c3a-b623-d5e396d3fd04"
      },
      "execution_count": 69,
      "outputs": [
        {
          "output_type": "execute_result",
          "data": {
            "text/plain": [
              "array([  0, 100, 200, 300, 400, 500, 600, 700, 800, 900])"
            ]
          },
          "metadata": {},
          "execution_count": 69
        }
      ]
    },
    {
      "cell_type": "code",
      "source": [
        "indices = [7, 1, 2, 6]"
      ],
      "metadata": {
        "id": "JsbbvDZ4gUJB"
      },
      "execution_count": 70,
      "outputs": []
    },
    {
      "cell_type": "code",
      "source": [
        "arr[indices]"
      ],
      "metadata": {
        "colab": {
          "base_uri": "https://localhost:8080/"
        },
        "id": "rHrjt1hhgX41",
        "outputId": "af052d54-1e8d-4752-f171-e57db953a740"
      },
      "execution_count": 71,
      "outputs": [
        {
          "output_type": "execute_result",
          "data": {
            "text/plain": [
              "array([700, 100, 200, 600])"
            ]
          },
          "metadata": {},
          "execution_count": 71
        }
      ]
    },
    {
      "cell_type": "code",
      "source": [
        "arr.take(indices)"
      ],
      "metadata": {
        "colab": {
          "base_uri": "https://localhost:8080/"
        },
        "id": "S3i4FG4MgY-q",
        "outputId": "cac71c39-9104-4434-c560-5d030801afa2"
      },
      "execution_count": 72,
      "outputs": [
        {
          "output_type": "execute_result",
          "data": {
            "text/plain": [
              "array([700, 100, 200, 600])"
            ]
          },
          "metadata": {},
          "execution_count": 72
        }
      ]
    },
    {
      "cell_type": "code",
      "source": [
        "arr.put(indices, 23)"
      ],
      "metadata": {
        "id": "Q69x83A3gbaA"
      },
      "execution_count": 73,
      "outputs": []
    },
    {
      "cell_type": "code",
      "source": [
        "arr"
      ],
      "metadata": {
        "colab": {
          "base_uri": "https://localhost:8080/"
        },
        "id": "EyAocDxzggop",
        "outputId": "04234fb7-6e18-4d2d-b7b7-b3c1ac14598b"
      },
      "execution_count": 74,
      "outputs": [
        {
          "output_type": "execute_result",
          "data": {
            "text/plain": [
              "array([  0,  23,  23, 300, 400, 500,  23,  23, 800, 900])"
            ]
          },
          "metadata": {},
          "execution_count": 74
        }
      ]
    },
    {
      "cell_type": "code",
      "source": [
        "arr.put(indices, [4, 5, 6, 7])"
      ],
      "metadata": {
        "id": "uG3P4ZLygj7o"
      },
      "execution_count": 75,
      "outputs": []
    },
    {
      "cell_type": "code",
      "source": [
        "arr"
      ],
      "metadata": {
        "colab": {
          "base_uri": "https://localhost:8080/"
        },
        "id": "-bBg7busgp-U",
        "outputId": "d66cec18-00c8-4834-eed5-3a644afa498e"
      },
      "execution_count": 76,
      "outputs": [
        {
          "output_type": "execute_result",
          "data": {
            "text/plain": [
              "array([  0,   5,   6, 300, 400, 500,   7,   4, 800, 900])"
            ]
          },
          "metadata": {},
          "execution_count": 76
        }
      ]
    },
    {
      "cell_type": "code",
      "source": [
        "indices = [2, 0, 2, 1]"
      ],
      "metadata": {
        "id": "9oAqZwwmgqpk"
      },
      "execution_count": 77,
      "outputs": []
    },
    {
      "cell_type": "code",
      "source": [
        "arr = np.random.standard_normal((2, 4))"
      ],
      "metadata": {
        "id": "9iOaHv6bg39M"
      },
      "execution_count": 78,
      "outputs": []
    },
    {
      "cell_type": "code",
      "source": [
        "arr.take(indices, axis= 1)"
      ],
      "metadata": {
        "colab": {
          "base_uri": "https://localhost:8080/"
        },
        "id": "xL0A5NSxg7k_",
        "outputId": "386272ba-6502-4c4f-8661-a35d025d6062"
      },
      "execution_count": 79,
      "outputs": [
        {
          "output_type": "execute_result",
          "data": {
            "text/plain": [
              "array([[ 0.32387995,  1.2651746 ,  0.32387995, -0.90522333],\n",
              "       [ 0.58249629, -0.40275245,  0.58249629, -2.0075156 ]])"
            ]
          },
          "metadata": {},
          "execution_count": 79
        }
      ]
    },
    {
      "cell_type": "markdown",
      "source": [
        "# Broadcasting"
      ],
      "metadata": {
        "id": "l2pFpnL9g_tJ"
      }
    },
    {
      "cell_type": "code",
      "source": [
        "arr = np.arange(4)"
      ],
      "metadata": {
        "id": "nMwjHHMAwGCF"
      },
      "execution_count": 80,
      "outputs": []
    },
    {
      "cell_type": "code",
      "source": [
        "arr * 4"
      ],
      "metadata": {
        "colab": {
          "base_uri": "https://localhost:8080/"
        },
        "id": "sHIoQP94wTBe",
        "outputId": "e42fe879-6b27-4021-bd34-e72db535b446"
      },
      "execution_count": 81,
      "outputs": [
        {
          "output_type": "execute_result",
          "data": {
            "text/plain": [
              "array([ 0,  4,  8, 12])"
            ]
          },
          "metadata": {},
          "execution_count": 81
        }
      ]
    },
    {
      "cell_type": "code",
      "source": [
        "arr = np.random.standard_normal((4, 3))"
      ],
      "metadata": {
        "id": "r9uu8-vkwUty"
      },
      "execution_count": 82,
      "outputs": []
    },
    {
      "cell_type": "code",
      "source": [
        "arr.mean(0)"
      ],
      "metadata": {
        "colab": {
          "base_uri": "https://localhost:8080/"
        },
        "id": "FFeZVSE8wr3b",
        "outputId": "136f167a-08db-4949-a912-69dd27534d7f"
      },
      "execution_count": 83,
      "outputs": [
        {
          "output_type": "execute_result",
          "data": {
            "text/plain": [
              "array([-0.57956506, -0.28896561,  0.58795803])"
            ]
          },
          "metadata": {},
          "execution_count": 83
        }
      ]
    },
    {
      "cell_type": "code",
      "source": [
        "demeaned = arr - arr.mean(0)"
      ],
      "metadata": {
        "id": "pNnIy0xFwtCN"
      },
      "execution_count": 84,
      "outputs": []
    },
    {
      "cell_type": "code",
      "source": [
        "demeaned"
      ],
      "metadata": {
        "colab": {
          "base_uri": "https://localhost:8080/"
        },
        "id": "9JsrbHjJwxer",
        "outputId": "e135ef3c-5e46-4c53-8c7c-99844e647fb9"
      },
      "execution_count": 85,
      "outputs": [
        {
          "output_type": "execute_result",
          "data": {
            "text/plain": [
              "array([[ 0.89239789, -2.04813182,  0.91374481],\n",
              "       [ 1.19437972,  0.81347238, -0.71269719],\n",
              "       [ 0.12417473,  0.09022324, -0.20499489],\n",
              "       [-2.21095234,  1.14443619,  0.00394727]])"
            ]
          },
          "metadata": {},
          "execution_count": 85
        }
      ]
    },
    {
      "cell_type": "code",
      "source": [
        "demeaned.mean(0)"
      ],
      "metadata": {
        "colab": {
          "base_uri": "https://localhost:8080/"
        },
        "id": "0arBsjsTwy5o",
        "outputId": "25d9aeea-3020-4da0-dbc3-f865e7387fac"
      },
      "execution_count": 86,
      "outputs": [
        {
          "output_type": "execute_result",
          "data": {
            "text/plain": [
              "array([ 0.00000000e+00, -5.55111512e-17, -2.77555756e-17])"
            ]
          },
          "metadata": {},
          "execution_count": 86
        }
      ]
    },
    {
      "cell_type": "code",
      "source": [
        "demeaned.mean(1)"
      ],
      "metadata": {
        "colab": {
          "base_uri": "https://localhost:8080/"
        },
        "id": "_2VNAujZw6Tv",
        "outputId": "b12a5e45-99ca-4217-e4fd-cba80809f6c6"
      },
      "execution_count": 87,
      "outputs": [
        {
          "output_type": "execute_result",
          "data": {
            "text/plain": [
              "array([-0.08066304,  0.43171831,  0.00313436, -0.35418963])"
            ]
          },
          "metadata": {},
          "execution_count": 87
        }
      ]
    },
    {
      "cell_type": "code",
      "source": [
        "row_means = arr.mean(1)"
      ],
      "metadata": {
        "id": "LC4Td5-NxNiG"
      },
      "execution_count": 88,
      "outputs": []
    },
    {
      "cell_type": "code",
      "source": [
        "row_means.shape"
      ],
      "metadata": {
        "colab": {
          "base_uri": "https://localhost:8080/"
        },
        "id": "-whdk5P7yMjV",
        "outputId": "6168c062-cbd1-4db8-92c7-b985225b9bfb"
      },
      "execution_count": 89,
      "outputs": [
        {
          "output_type": "execute_result",
          "data": {
            "text/plain": [
              "(4,)"
            ]
          },
          "metadata": {},
          "execution_count": 89
        }
      ]
    },
    {
      "cell_type": "code",
      "source": [
        "row_means.reshape((4, 1))"
      ],
      "metadata": {
        "colab": {
          "base_uri": "https://localhost:8080/"
        },
        "id": "ros2S-3QyPF5",
        "outputId": "b4677e27-7895-40fc-b8e3-e44087b74b47"
      },
      "execution_count": 90,
      "outputs": [
        {
          "output_type": "execute_result",
          "data": {
            "text/plain": [
              "array([[-0.17418726],\n",
              "       [ 0.33819409],\n",
              "       [-0.09038985],\n",
              "       [-0.44771384]])"
            ]
          },
          "metadata": {},
          "execution_count": 90
        }
      ]
    },
    {
      "cell_type": "code",
      "source": [
        "demeaned = arr - row_means.reshape((4, 1))"
      ],
      "metadata": {
        "id": "JoODLfzPyRdG"
      },
      "execution_count": 91,
      "outputs": []
    },
    {
      "cell_type": "code",
      "source": [
        "demeaned.mean(1).astype('int64')"
      ],
      "metadata": {
        "colab": {
          "base_uri": "https://localhost:8080/"
        },
        "id": "Z5AbF3R9yXJj",
        "outputId": "8b462ce6-fb3f-4840-fe1c-e738ba089d3a"
      },
      "execution_count": 92,
      "outputs": [
        {
          "output_type": "execute_result",
          "data": {
            "text/plain": [
              "array([0, 0, 0, 0])"
            ]
          },
          "metadata": {},
          "execution_count": 92
        }
      ]
    },
    {
      "cell_type": "markdown",
      "source": [
        "## Broadcasting over Other Axes"
      ],
      "metadata": {
        "id": "rY_SH2wbyYDF"
      }
    },
    {
      "cell_type": "code",
      "source": [
        "# arr - arr.mean(1)     #ValueError: operands could not be broadcast together with shapes (4,3) (4,)"
      ],
      "metadata": {
        "id": "DjlH1UtQy469"
      },
      "execution_count": 93,
      "outputs": []
    },
    {
      "cell_type": "code",
      "source": [
        "arr = np.zeros((4, 4))"
      ],
      "metadata": {
        "id": "vswuUNrSzRFE"
      },
      "execution_count": 94,
      "outputs": []
    },
    {
      "cell_type": "code",
      "source": [
        "arr_3d = arr[:, np.newaxis, :]"
      ],
      "metadata": {
        "id": "ykMV1iGjzxrO"
      },
      "execution_count": 95,
      "outputs": []
    },
    {
      "cell_type": "code",
      "source": [
        "arr_3d"
      ],
      "metadata": {
        "colab": {
          "base_uri": "https://localhost:8080/"
        },
        "id": "oxTZIQuvz3MU",
        "outputId": "a64e4b4a-b7dc-49b3-db70-b6e6155d7bf4"
      },
      "execution_count": 96,
      "outputs": [
        {
          "output_type": "execute_result",
          "data": {
            "text/plain": [
              "array([[[0., 0., 0., 0.]],\n",
              "\n",
              "       [[0., 0., 0., 0.]],\n",
              "\n",
              "       [[0., 0., 0., 0.]],\n",
              "\n",
              "       [[0., 0., 0., 0.]]])"
            ]
          },
          "metadata": {},
          "execution_count": 96
        }
      ]
    },
    {
      "cell_type": "code",
      "source": [
        "arr_3d.shape"
      ],
      "metadata": {
        "colab": {
          "base_uri": "https://localhost:8080/"
        },
        "id": "N_uiq83_z4b-",
        "outputId": "813c30b2-f31f-4469-a9c7-111bcfc3a92b"
      },
      "execution_count": 97,
      "outputs": [
        {
          "output_type": "execute_result",
          "data": {
            "text/plain": [
              "(4, 1, 4)"
            ]
          },
          "metadata": {},
          "execution_count": 97
        }
      ]
    },
    {
      "cell_type": "code",
      "source": [
        "arr_1d = np.arange(4)"
      ],
      "metadata": {
        "id": "EajEQ8Gf0vbW"
      },
      "execution_count": 98,
      "outputs": []
    },
    {
      "cell_type": "code",
      "source": [
        "arr_1d[:, np.newaxis]"
      ],
      "metadata": {
        "colab": {
          "base_uri": "https://localhost:8080/"
        },
        "id": "gCDXWqoC0yeP",
        "outputId": "558d4df6-8de9-4bdf-a4e4-e29f99a93f4c"
      },
      "execution_count": 99,
      "outputs": [
        {
          "output_type": "execute_result",
          "data": {
            "text/plain": [
              "array([[0],\n",
              "       [1],\n",
              "       [2],\n",
              "       [3]])"
            ]
          },
          "metadata": {},
          "execution_count": 99
        }
      ]
    },
    {
      "cell_type": "code",
      "source": [
        "arr_1d[np.newaxis, :]"
      ],
      "metadata": {
        "colab": {
          "base_uri": "https://localhost:8080/"
        },
        "id": "koNoq6js01Ks",
        "outputId": "f1cff991-1f8a-4d66-de36-a9b49487aee2"
      },
      "execution_count": 100,
      "outputs": [
        {
          "output_type": "execute_result",
          "data": {
            "text/plain": [
              "array([[0, 1, 2, 3]])"
            ]
          },
          "metadata": {},
          "execution_count": 100
        }
      ]
    },
    {
      "cell_type": "code",
      "source": [
        "arr = np.random.standard_normal((3, 4, 5))"
      ],
      "metadata": {
        "id": "zU7Ll5Fs07HF"
      },
      "execution_count": 101,
      "outputs": []
    },
    {
      "cell_type": "code",
      "source": [
        "arr"
      ],
      "metadata": {
        "colab": {
          "base_uri": "https://localhost:8080/"
        },
        "id": "_WplPWMk1HJZ",
        "outputId": "94f2c456-947a-4e02-ced6-e5b234a7199f"
      },
      "execution_count": 102,
      "outputs": [
        {
          "output_type": "execute_result",
          "data": {
            "text/plain": [
              "array([[[-0.07714675, -0.67536736, -0.14717299,  1.0964594 ,\n",
              "         -0.01557338],\n",
              "        [ 0.47519225,  0.22558707,  1.70123577,  0.31046832,\n",
              "          0.75186432],\n",
              "        [-0.81714202,  0.79448784, -0.59784615, -0.71124882,\n",
              "          1.22780956],\n",
              "        [-0.11701265, -1.22332728,  1.52713574,  0.59481494,\n",
              "          1.97774966]],\n",
              "\n",
              "       [[ 0.02736604,  0.30157278,  0.39982816, -0.31211139,\n",
              "          0.20305185],\n",
              "        [-0.03808487, -1.76377032, -0.57098907,  1.1812854 ,\n",
              "         -0.32612168],\n",
              "        [ 0.27803054,  1.36778009, -0.23995212,  0.3425733 ,\n",
              "          0.91060264],\n",
              "        [-0.10983569,  1.04435706, -0.54723131,  0.17358028,\n",
              "         -0.39685734]],\n",
              "\n",
              "       [[-0.31929474,  1.89106809,  0.26630139, -0.32697633,\n",
              "         -0.37934131],\n",
              "        [-0.39886021, -0.46277814, -1.06628479,  1.37752485,\n",
              "          0.01768575],\n",
              "        [-0.30201752, -0.61883355, -0.33059289, -0.65184855,\n",
              "         -2.53702461],\n",
              "        [-0.89688572, -0.44845917,  0.4898649 ,  0.78604178,\n",
              "          1.66261581]]])"
            ]
          },
          "metadata": {},
          "execution_count": 102
        }
      ]
    },
    {
      "cell_type": "code",
      "source": [
        "depth_mean = arr.mean(2)"
      ],
      "metadata": {
        "id": "OUT-zF5t1Hhs"
      },
      "execution_count": 103,
      "outputs": []
    },
    {
      "cell_type": "code",
      "source": [
        "depth_mean"
      ],
      "metadata": {
        "colab": {
          "base_uri": "https://localhost:8080/"
        },
        "id": "so3lt-1e1Ywj",
        "outputId": "89629573-627a-4119-be59-838653ce7dea"
      },
      "execution_count": 104,
      "outputs": [
        {
          "output_type": "execute_result",
          "data": {
            "text/plain": [
              "array([[ 0.03623979,  0.69286955, -0.02078792,  0.55187208],\n",
              "       [ 0.12394149, -0.30353611,  0.53180689,  0.0328026 ],\n",
              "       [ 0.22635142, -0.10654251, -0.88806342,  0.31863552]])"
            ]
          },
          "metadata": {},
          "execution_count": 104
        }
      ]
    },
    {
      "cell_type": "code",
      "source": [
        "depth_mean.shape"
      ],
      "metadata": {
        "colab": {
          "base_uri": "https://localhost:8080/"
        },
        "id": "xdAP3l8W1ZyR",
        "outputId": "0d2c4005-af54-47dc-e22f-a9caaf7d1475"
      },
      "execution_count": 105,
      "outputs": [
        {
          "output_type": "execute_result",
          "data": {
            "text/plain": [
              "(3, 4)"
            ]
          },
          "metadata": {},
          "execution_count": 105
        }
      ]
    },
    {
      "cell_type": "code",
      "source": [
        "demeaned.shape"
      ],
      "metadata": {
        "colab": {
          "base_uri": "https://localhost:8080/"
        },
        "id": "6brog5VO1b2I",
        "outputId": "c0f9b4bd-8d25-4cab-edd2-b5e34a5f61c7"
      },
      "execution_count": 106,
      "outputs": [
        {
          "output_type": "execute_result",
          "data": {
            "text/plain": [
              "(4, 3)"
            ]
          },
          "metadata": {},
          "execution_count": 106
        }
      ]
    },
    {
      "cell_type": "code",
      "source": [
        "demeaned = arr - depth_mean[:, :, np.newaxis]"
      ],
      "metadata": {
        "id": "ad5n9FOi1fn-"
      },
      "execution_count": 107,
      "outputs": []
    },
    {
      "cell_type": "code",
      "source": [
        "demeaned.mean(2).astype('int64')"
      ],
      "metadata": {
        "colab": {
          "base_uri": "https://localhost:8080/"
        },
        "id": "6-WxumGN1kao",
        "outputId": "c6f526b5-34a1-403f-a079-51f83d434db1"
      },
      "execution_count": 108,
      "outputs": [
        {
          "output_type": "execute_result",
          "data": {
            "text/plain": [
              "array([[0, 0, 0, 0],\n",
              "       [0, 0, 0, 0],\n",
              "       [0, 0, 0, 0]])"
            ]
          },
          "metadata": {},
          "execution_count": 108
        }
      ]
    },
    {
      "cell_type": "markdown",
      "source": [
        "## Setting Array Values by Broadcasting"
      ],
      "metadata": {
        "id": "wGiY3bz-1lWj"
      }
    },
    {
      "cell_type": "code",
      "source": [
        "arr = np.zeros((5, 3))"
      ],
      "metadata": {
        "id": "k1vTYuwK2LV3"
      },
      "execution_count": 109,
      "outputs": []
    },
    {
      "cell_type": "code",
      "source": [
        "arr[:] = 5"
      ],
      "metadata": {
        "id": "qwzf9N5t2qyo"
      },
      "execution_count": 110,
      "outputs": []
    },
    {
      "cell_type": "code",
      "source": [
        "arr"
      ],
      "metadata": {
        "colab": {
          "base_uri": "https://localhost:8080/"
        },
        "id": "g09nusvf2xHU",
        "outputId": "d1c48ab4-b186-4ab3-91be-5c1d222f7484"
      },
      "execution_count": 111,
      "outputs": [
        {
          "output_type": "execute_result",
          "data": {
            "text/plain": [
              "array([[5., 5., 5.],\n",
              "       [5., 5., 5.],\n",
              "       [5., 5., 5.],\n",
              "       [5., 5., 5.],\n",
              "       [5., 5., 5.]])"
            ]
          },
          "metadata": {},
          "execution_count": 111
        }
      ]
    },
    {
      "cell_type": "code",
      "source": [
        "col = np.random.standard_normal(5)"
      ],
      "metadata": {
        "id": "nP4zAq_Q2xwG"
      },
      "execution_count": 112,
      "outputs": []
    },
    {
      "cell_type": "code",
      "source": [
        "col"
      ],
      "metadata": {
        "colab": {
          "base_uri": "https://localhost:8080/"
        },
        "id": "U1sScqSi29sF",
        "outputId": "f0e2ff06-5eea-4f8e-be3b-9448fd3f753a"
      },
      "execution_count": 113,
      "outputs": [
        {
          "output_type": "execute_result",
          "data": {
            "text/plain": [
              "array([-0.20827523,  0.40894697, -0.12929391, -1.27966879, -1.09047982])"
            ]
          },
          "metadata": {},
          "execution_count": 113
        }
      ]
    },
    {
      "cell_type": "code",
      "source": [
        "arr[:] = col[:, np.newaxis]"
      ],
      "metadata": {
        "id": "QfTfTu7R3Ajd"
      },
      "execution_count": 114,
      "outputs": []
    },
    {
      "cell_type": "code",
      "source": [
        "arr"
      ],
      "metadata": {
        "colab": {
          "base_uri": "https://localhost:8080/"
        },
        "id": "0Yp9pMmu3G0c",
        "outputId": "ecf86145-e006-49bd-bc0e-9af956a03501"
      },
      "execution_count": 115,
      "outputs": [
        {
          "output_type": "execute_result",
          "data": {
            "text/plain": [
              "array([[-0.20827523, -0.20827523, -0.20827523],\n",
              "       [ 0.40894697,  0.40894697,  0.40894697],\n",
              "       [-0.12929391, -0.12929391, -0.12929391],\n",
              "       [-1.27966879, -1.27966879, -1.27966879],\n",
              "       [-1.09047982, -1.09047982, -1.09047982]])"
            ]
          },
          "metadata": {},
          "execution_count": 115
        }
      ]
    },
    {
      "cell_type": "code",
      "source": [
        "arr[:2] = [[-1], [0]]"
      ],
      "metadata": {
        "id": "SGHFuPS13Hmi"
      },
      "execution_count": 116,
      "outputs": []
    },
    {
      "cell_type": "code",
      "source": [
        "arr"
      ],
      "metadata": {
        "colab": {
          "base_uri": "https://localhost:8080/"
        },
        "id": "EWBFvd_B3YI5",
        "outputId": "9e703d2d-5a08-49e3-a5c8-f81f2991f9d8"
      },
      "execution_count": 117,
      "outputs": [
        {
          "output_type": "execute_result",
          "data": {
            "text/plain": [
              "array([[-1.        , -1.        , -1.        ],\n",
              "       [ 0.        ,  0.        ,  0.        ],\n",
              "       [-0.12929391, -0.12929391, -0.12929391],\n",
              "       [-1.27966879, -1.27966879, -1.27966879],\n",
              "       [-1.09047982, -1.09047982, -1.09047982]])"
            ]
          },
          "metadata": {},
          "execution_count": 117
        }
      ]
    },
    {
      "cell_type": "markdown",
      "source": [
        "# Advanced ufunc Usage"
      ],
      "metadata": {
        "id": "1gChXJIX3YZT"
      }
    },
    {
      "cell_type": "code",
      "source": [
        "arr = np.arange(10)"
      ],
      "metadata": {
        "id": "kUAkF3oT3eAB"
      },
      "execution_count": 118,
      "outputs": []
    },
    {
      "cell_type": "code",
      "source": [
        "np.add.reduce(arr)"
      ],
      "metadata": {
        "colab": {
          "base_uri": "https://localhost:8080/"
        },
        "id": "CR5EBYDl338j",
        "outputId": "38a5eeb6-45ad-4d80-ace5-13e9a95a617b"
      },
      "execution_count": 119,
      "outputs": [
        {
          "output_type": "execute_result",
          "data": {
            "text/plain": [
              "45"
            ]
          },
          "metadata": {},
          "execution_count": 119
        }
      ]
    },
    {
      "cell_type": "code",
      "source": [
        "np.sum(arr)"
      ],
      "metadata": {
        "colab": {
          "base_uri": "https://localhost:8080/"
        },
        "id": "BG2z_13n37sp",
        "outputId": "87cd6a64-b0a7-4b3b-8095-77da69964545"
      },
      "execution_count": 120,
      "outputs": [
        {
          "output_type": "execute_result",
          "data": {
            "text/plain": [
              "45"
            ]
          },
          "metadata": {},
          "execution_count": 120
        }
      ]
    },
    {
      "cell_type": "code",
      "source": [
        "rng = np.random.default_rng(12346)"
      ],
      "metadata": {
        "id": "n6vGAf1V39M7"
      },
      "execution_count": 121,
      "outputs": []
    },
    {
      "cell_type": "code",
      "source": [
        "arr = rng.standard_normal((5, 5))"
      ],
      "metadata": {
        "id": "iCeI6p7u4EwR"
      },
      "execution_count": 122,
      "outputs": []
    },
    {
      "cell_type": "code",
      "source": [
        "arr"
      ],
      "metadata": {
        "colab": {
          "base_uri": "https://localhost:8080/"
        },
        "id": "ZmnN5_U14IAK",
        "outputId": "1907ef2d-04e0-483f-a115-4f9b883a19d0"
      },
      "execution_count": 123,
      "outputs": [
        {
          "output_type": "execute_result",
          "data": {
            "text/plain": [
              "array([[-0.903889  ,  0.15713146,  0.89761199, -0.76219554, -0.17625556],\n",
              "       [ 0.05303172, -1.62844028, -0.17753333,  1.96360352,  1.78125478],\n",
              "       [-0.87971984, -1.69847913, -1.81891091,  0.11895453, -0.44409513],\n",
              "       [ 0.76911421, -0.03433778,  0.39252776,  0.75891811, -0.07045967],\n",
              "       [ 1.04984775,  1.02967072, -0.42005533,  0.78626627,  0.96124929]])"
            ]
          },
          "metadata": {},
          "execution_count": 123
        }
      ]
    },
    {
      "cell_type": "code",
      "source": [
        "arr[::2].sort(1)    # sorting a few rows"
      ],
      "metadata": {
        "id": "A9uaiVmL4VxU"
      },
      "execution_count": 124,
      "outputs": []
    },
    {
      "cell_type": "code",
      "source": [
        "arr"
      ],
      "metadata": {
        "colab": {
          "base_uri": "https://localhost:8080/"
        },
        "id": "ytk5eb934dh7",
        "outputId": "becdbf01-60e9-4a73-e10b-f8c435a639e6"
      },
      "execution_count": 125,
      "outputs": [
        {
          "output_type": "execute_result",
          "data": {
            "text/plain": [
              "array([[-0.903889  , -0.76219554, -0.17625556,  0.15713146,  0.89761199],\n",
              "       [ 0.05303172, -1.62844028, -0.17753333,  1.96360352,  1.78125478],\n",
              "       [-1.81891091, -1.69847913, -0.87971984, -0.44409513,  0.11895453],\n",
              "       [ 0.76911421, -0.03433778,  0.39252776,  0.75891811, -0.07045967],\n",
              "       [-0.42005533,  0.78626627,  0.96124929,  1.02967072,  1.04984775]])"
            ]
          },
          "metadata": {},
          "execution_count": 125
        }
      ]
    },
    {
      "cell_type": "code",
      "source": [
        "map = arr[:, :-1] < arr[:, 1:]"
      ],
      "metadata": {
        "id": "a_iv63rb4d45"
      },
      "execution_count": 126,
      "outputs": []
    },
    {
      "cell_type": "code",
      "source": [
        "map"
      ],
      "metadata": {
        "colab": {
          "base_uri": "https://localhost:8080/"
        },
        "id": "3sZo0WG35JZi",
        "outputId": "aab71c48-d703-47a9-d2db-43f0904652ea"
      },
      "execution_count": 127,
      "outputs": [
        {
          "output_type": "execute_result",
          "data": {
            "text/plain": [
              "array([[ True,  True,  True,  True],\n",
              "       [False,  True,  True, False],\n",
              "       [ True,  True,  True,  True],\n",
              "       [False,  True,  True, False],\n",
              "       [ True,  True,  True,  True]])"
            ]
          },
          "metadata": {},
          "execution_count": 127
        }
      ]
    },
    {
      "cell_type": "code",
      "source": [
        "arr[:, :-1]"
      ],
      "metadata": {
        "colab": {
          "base_uri": "https://localhost:8080/"
        },
        "id": "Lkdz16JX4wvO",
        "outputId": "5826a682-e097-4551-851d-97b3116232de"
      },
      "execution_count": 128,
      "outputs": [
        {
          "output_type": "execute_result",
          "data": {
            "text/plain": [
              "array([[-0.903889  , -0.76219554, -0.17625556,  0.15713146],\n",
              "       [ 0.05303172, -1.62844028, -0.17753333,  1.96360352],\n",
              "       [-1.81891091, -1.69847913, -0.87971984, -0.44409513],\n",
              "       [ 0.76911421, -0.03433778,  0.39252776,  0.75891811],\n",
              "       [-0.42005533,  0.78626627,  0.96124929,  1.02967072]])"
            ]
          },
          "metadata": {},
          "execution_count": 128
        }
      ]
    },
    {
      "cell_type": "code",
      "source": [
        "arr[:, 1:]"
      ],
      "metadata": {
        "colab": {
          "base_uri": "https://localhost:8080/"
        },
        "id": "hh0GqFRH491M",
        "outputId": "79480cf0-028b-451b-bee2-2d835ee8c2a9"
      },
      "execution_count": 129,
      "outputs": [
        {
          "output_type": "execute_result",
          "data": {
            "text/plain": [
              "array([[-0.76219554, -0.17625556,  0.15713146,  0.89761199],\n",
              "       [-1.62844028, -0.17753333,  1.96360352,  1.78125478],\n",
              "       [-1.69847913, -0.87971984, -0.44409513,  0.11895453],\n",
              "       [-0.03433778,  0.39252776,  0.75891811, -0.07045967],\n",
              "       [ 0.78626627,  0.96124929,  1.02967072,  1.04984775]])"
            ]
          },
          "metadata": {},
          "execution_count": 129
        }
      ]
    },
    {
      "cell_type": "code",
      "source": [
        "np.logical_and.reduce(map, axis= 1)"
      ],
      "metadata": {
        "colab": {
          "base_uri": "https://localhost:8080/"
        },
        "id": "avDDWl6C4-6j",
        "outputId": "fba12649-fb72-4f43-e818-07dda2be2bb6"
      },
      "execution_count": 130,
      "outputs": [
        {
          "output_type": "execute_result",
          "data": {
            "text/plain": [
              "array([ True, False,  True, False,  True])"
            ]
          },
          "metadata": {},
          "execution_count": 130
        }
      ]
    },
    {
      "cell_type": "code",
      "source": [
        "arr = np.arange(15).reshape((3, 5))"
      ],
      "metadata": {
        "id": "yvmuhUPS5OXj"
      },
      "execution_count": 131,
      "outputs": []
    },
    {
      "cell_type": "code",
      "source": [
        "np.add.accumulate(arr, axis= 1)"
      ],
      "metadata": {
        "colab": {
          "base_uri": "https://localhost:8080/"
        },
        "id": "QQ4w3-Jh5XLd",
        "outputId": "790311d9-5b2f-4b34-fe2f-d23969346104"
      },
      "execution_count": 132,
      "outputs": [
        {
          "output_type": "execute_result",
          "data": {
            "text/plain": [
              "array([[ 0,  1,  3,  6, 10],\n",
              "       [ 5, 11, 18, 26, 35],\n",
              "       [10, 21, 33, 46, 60]])"
            ]
          },
          "metadata": {},
          "execution_count": 132
        }
      ]
    },
    {
      "cell_type": "code",
      "source": [
        "arr = np.arange(3).repeat([1, 2, 2])"
      ],
      "metadata": {
        "id": "Clw8OGkx5f4H"
      },
      "execution_count": 133,
      "outputs": []
    },
    {
      "cell_type": "code",
      "source": [
        "arr"
      ],
      "metadata": {
        "colab": {
          "base_uri": "https://localhost:8080/"
        },
        "id": "dlJRjyHl5uw-",
        "outputId": "fa272da4-859b-4c68-f0c1-70f29a9ed13d"
      },
      "execution_count": 134,
      "outputs": [
        {
          "output_type": "execute_result",
          "data": {
            "text/plain": [
              "array([0, 1, 1, 2, 2])"
            ]
          },
          "metadata": {},
          "execution_count": 134
        }
      ]
    },
    {
      "cell_type": "code",
      "source": [
        "np.multiply.outer(arr, np.arange(5))"
      ],
      "metadata": {
        "colab": {
          "base_uri": "https://localhost:8080/"
        },
        "id": "ySTooPSb5vC8",
        "outputId": "3079b3f6-2cdd-4318-9417-9b5e8c38af54"
      },
      "execution_count": 135,
      "outputs": [
        {
          "output_type": "execute_result",
          "data": {
            "text/plain": [
              "array([[0, 0, 0, 0, 0],\n",
              "       [0, 1, 2, 3, 4],\n",
              "       [0, 1, 2, 3, 4],\n",
              "       [0, 2, 4, 6, 8],\n",
              "       [0, 2, 4, 6, 8]])"
            ]
          },
          "metadata": {},
          "execution_count": 135
        }
      ]
    },
    {
      "cell_type": "code",
      "source": [
        "x = rng.standard_normal((3, 4))"
      ],
      "metadata": {
        "id": "wlx57k3551E1"
      },
      "execution_count": 136,
      "outputs": []
    },
    {
      "cell_type": "code",
      "source": [
        "y = rng.standard_normal(5)"
      ],
      "metadata": {
        "id": "V9XjYtug6HZj"
      },
      "execution_count": 137,
      "outputs": []
    },
    {
      "cell_type": "code",
      "source": [
        "result = np.subtract.outer(x, y)"
      ],
      "metadata": {
        "id": "G4muZV916JDH"
      },
      "execution_count": 138,
      "outputs": []
    },
    {
      "cell_type": "code",
      "source": [
        "result.shape"
      ],
      "metadata": {
        "colab": {
          "base_uri": "https://localhost:8080/"
        },
        "id": "dx4HWCat6LLd",
        "outputId": "a89c0f24-2bc6-4f60-c907-04019deb5679"
      },
      "execution_count": 139,
      "outputs": [
        {
          "output_type": "execute_result",
          "data": {
            "text/plain": [
              "(3, 4, 5)"
            ]
          },
          "metadata": {},
          "execution_count": 139
        }
      ]
    },
    {
      "cell_type": "code",
      "source": [
        "arr = np.arange(10)"
      ],
      "metadata": {
        "id": "R2r_Y3a46S1j"
      },
      "execution_count": 140,
      "outputs": []
    },
    {
      "cell_type": "code",
      "source": [
        "np.add.reduceat(arr, [0, 5, 8])"
      ],
      "metadata": {
        "colab": {
          "base_uri": "https://localhost:8080/"
        },
        "id": "RDHfxpMP6c6S",
        "outputId": "d1d87deb-bdf7-4f7c-8fa8-2110fa3cdcc1"
      },
      "execution_count": 141,
      "outputs": [
        {
          "output_type": "execute_result",
          "data": {
            "text/plain": [
              "array([10, 18, 17])"
            ]
          },
          "metadata": {},
          "execution_count": 141
        }
      ]
    },
    {
      "cell_type": "code",
      "source": [
        "arr = np.multiply.outer(np.arange(4), np.arange(5))"
      ],
      "metadata": {
        "id": "CohE183D6eo9"
      },
      "execution_count": 142,
      "outputs": []
    },
    {
      "cell_type": "code",
      "source": [
        "arr"
      ],
      "metadata": {
        "colab": {
          "base_uri": "https://localhost:8080/"
        },
        "id": "ZguvJtIS6k17",
        "outputId": "af2b94b7-a27e-4ed5-8449-ebc9f6ca3db0"
      },
      "execution_count": 143,
      "outputs": [
        {
          "output_type": "execute_result",
          "data": {
            "text/plain": [
              "array([[ 0,  0,  0,  0,  0],\n",
              "       [ 0,  1,  2,  3,  4],\n",
              "       [ 0,  2,  4,  6,  8],\n",
              "       [ 0,  3,  6,  9, 12]])"
            ]
          },
          "metadata": {},
          "execution_count": 143
        }
      ]
    },
    {
      "cell_type": "code",
      "source": [
        "np.add.reduceat(arr, [0, 2, 4], axis= 1)"
      ],
      "metadata": {
        "colab": {
          "base_uri": "https://localhost:8080/"
        },
        "id": "saKfVcna6okc",
        "outputId": "1cd4da5b-b2fa-4fdd-8462-bb6043a35c6d"
      },
      "execution_count": 144,
      "outputs": [
        {
          "output_type": "execute_result",
          "data": {
            "text/plain": [
              "array([[ 0,  0,  0],\n",
              "       [ 1,  5,  4],\n",
              "       [ 2, 10,  8],\n",
              "       [ 3, 15, 12]])"
            ]
          },
          "metadata": {},
          "execution_count": 144
        }
      ]
    },
    {
      "cell_type": "markdown",
      "source": [
        "## Writing New ufuncs in Python"
      ],
      "metadata": {
        "id": "OGV5V9Sl60Fo"
      }
    },
    {
      "cell_type": "code",
      "source": [
        "def add_elements(x, y):\n",
        "    return x + y"
      ],
      "metadata": {
        "id": "3vUp0MyL64o7"
      },
      "execution_count": 145,
      "outputs": []
    },
    {
      "cell_type": "code",
      "source": [
        "add_them = np.frompyfunc(add_elements, 2, 1)"
      ],
      "metadata": {
        "id": "D7Z-53k77zZG"
      },
      "execution_count": 146,
      "outputs": []
    },
    {
      "cell_type": "code",
      "source": [
        "add_them(np.arange(8), np.arange(8))"
      ],
      "metadata": {
        "colab": {
          "base_uri": "https://localhost:8080/"
        },
        "id": "BJzEmBMd8NRh",
        "outputId": "c93a4732-b7a7-468b-d02e-25f0946f98a0"
      },
      "execution_count": 147,
      "outputs": [
        {
          "output_type": "execute_result",
          "data": {
            "text/plain": [
              "array([0, 2, 4, 6, 8, 10, 12, 14], dtype=object)"
            ]
          },
          "metadata": {},
          "execution_count": 147
        }
      ]
    },
    {
      "cell_type": "code",
      "source": [
        "add_vectorized = np.vectorize(add_elements, otypes= ['float64'])"
      ],
      "metadata": {
        "id": "fwY8Cdbj8TMb"
      },
      "execution_count": 148,
      "outputs": []
    },
    {
      "cell_type": "code",
      "source": [
        "add_vectorized(np.arange(8), np.arange(8))"
      ],
      "metadata": {
        "colab": {
          "base_uri": "https://localhost:8080/"
        },
        "id": "-kkWrslm8hN5",
        "outputId": "1d238710-15af-4795-b46e-4f8f921e7cc0"
      },
      "execution_count": 149,
      "outputs": [
        {
          "output_type": "execute_result",
          "data": {
            "text/plain": [
              "array([ 0.,  2.,  4.,  6.,  8., 10., 12., 14.])"
            ]
          },
          "metadata": {},
          "execution_count": 149
        }
      ]
    },
    {
      "cell_type": "code",
      "source": [
        "arr = rng.standard_normal(1_000_000)"
      ],
      "metadata": {
        "id": "o_mndLDj8nCl"
      },
      "execution_count": 150,
      "outputs": []
    },
    {
      "cell_type": "code",
      "source": [
        "%timeit add_vectorized(arr, arr)"
      ],
      "metadata": {
        "colab": {
          "base_uri": "https://localhost:8080/"
        },
        "id": "PKxf9Jq-8vxK",
        "outputId": "e43b1f12-4cce-4e3f-b212-f9b350f99500"
      },
      "execution_count": 151,
      "outputs": [
        {
          "output_type": "stream",
          "name": "stdout",
          "text": [
            "1.09 s ± 599 ms per loop (mean ± std. dev. of 7 runs, 1 loop each)\n"
          ]
        }
      ]
    },
    {
      "cell_type": "code",
      "source": [
        "%timeit np.add(arr, arr)"
      ],
      "metadata": {
        "colab": {
          "base_uri": "https://localhost:8080/"
        },
        "id": "lyZKFqCj80po",
        "outputId": "b283dca7-6ddf-47f5-dff1-44922e10c0dc"
      },
      "execution_count": 152,
      "outputs": [
        {
          "output_type": "stream",
          "name": "stdout",
          "text": [
            "1.37 ms ± 398 µs per loop (mean ± std. dev. of 7 runs, 1000 loops each)\n"
          ]
        }
      ]
    },
    {
      "cell_type": "markdown",
      "source": [
        "#Structured and Record Arrays"
      ],
      "metadata": {
        "id": "xsckRtrm86Wf"
      }
    },
    {
      "cell_type": "code",
      "source": [
        "dtype = [('x', 'int32'), ('y', 'float64'), ('name', 'S10')]"
      ],
      "metadata": {
        "id": "A30SHZlNuRO1"
      },
      "execution_count": 153,
      "outputs": []
    },
    {
      "cell_type": "code",
      "source": [
        "sarr = np.array([(23, np.pi, 'Harshit'), (142, 2.345, 'Ruchi')], dtype= dtype)"
      ],
      "metadata": {
        "id": "asBYqOj2uw1N"
      },
      "execution_count": 154,
      "outputs": []
    },
    {
      "cell_type": "code",
      "source": [
        "sarr"
      ],
      "metadata": {
        "colab": {
          "base_uri": "https://localhost:8080/"
        },
        "id": "pWsDq-AUvBQS",
        "outputId": "0e556af4-8603-4088-dce8-12df6aaf2f72"
      },
      "execution_count": 155,
      "outputs": [
        {
          "output_type": "execute_result",
          "data": {
            "text/plain": [
              "array([( 23, 3.14159265, b'Harshit'), (142, 2.345     , b'Ruchi')],\n",
              "      dtype=[('x', '<i4'), ('y', '<f8'), ('name', 'S10')])"
            ]
          },
          "metadata": {},
          "execution_count": 155
        }
      ]
    },
    {
      "cell_type": "code",
      "source": [
        "sarr[0]"
      ],
      "metadata": {
        "colab": {
          "base_uri": "https://localhost:8080/"
        },
        "id": "jX0K756QvBsQ",
        "outputId": "d1a53efb-35bd-488d-cf9c-0d7f813e706f"
      },
      "execution_count": 156,
      "outputs": [
        {
          "output_type": "execute_result",
          "data": {
            "text/plain": [
              "(23, 3.14159265, b'Harshit')"
            ]
          },
          "metadata": {},
          "execution_count": 156
        }
      ]
    },
    {
      "cell_type": "code",
      "source": [
        "sarr[0]['y']"
      ],
      "metadata": {
        "colab": {
          "base_uri": "https://localhost:8080/"
        },
        "id": "GFHC3bvkv1sA",
        "outputId": "5c674fa0-3d5c-44fe-b851-a3101554071d"
      },
      "execution_count": 157,
      "outputs": [
        {
          "output_type": "execute_result",
          "data": {
            "text/plain": [
              "3.141592653589793"
            ]
          },
          "metadata": {},
          "execution_count": 157
        }
      ]
    },
    {
      "cell_type": "code",
      "source": [
        "sarr[1]['name']"
      ],
      "metadata": {
        "colab": {
          "base_uri": "https://localhost:8080/"
        },
        "id": "u0FDJB8Rv2zm",
        "outputId": "aded68c3-2067-41ac-ef47-4e67286706bf"
      },
      "execution_count": 158,
      "outputs": [
        {
          "output_type": "execute_result",
          "data": {
            "text/plain": [
              "b'Ruchi'"
            ]
          },
          "metadata": {},
          "execution_count": 158
        }
      ]
    },
    {
      "cell_type": "code",
      "source": [
        "sarr['x']"
      ],
      "metadata": {
        "colab": {
          "base_uri": "https://localhost:8080/"
        },
        "id": "Q_LIK6Xqv4D3",
        "outputId": "ee91321e-3c87-47dc-c130-173811abbf6a"
      },
      "execution_count": 159,
      "outputs": [
        {
          "output_type": "execute_result",
          "data": {
            "text/plain": [
              "array([ 23, 142], dtype=int32)"
            ]
          },
          "metadata": {},
          "execution_count": 159
        }
      ]
    },
    {
      "cell_type": "markdown",
      "source": [
        "## Nested Data Types and Multidimensional Fields"
      ],
      "metadata": {
        "id": "otlgPVh7v-cE"
      }
    },
    {
      "cell_type": "code",
      "source": [
        "dtype = [('x', 'int64', 3), ('y', 'float64', 2)]"
      ],
      "metadata": {
        "id": "4X-G7NM8wE-B"
      },
      "execution_count": 160,
      "outputs": []
    },
    {
      "cell_type": "code",
      "source": [
        "arr = np.zeros(4, dtype= dtype)"
      ],
      "metadata": {
        "id": "PEqkYTg7wepf"
      },
      "execution_count": 161,
      "outputs": []
    },
    {
      "cell_type": "code",
      "source": [
        "arr"
      ],
      "metadata": {
        "colab": {
          "base_uri": "https://localhost:8080/"
        },
        "id": "h0l3twfQwg3B",
        "outputId": "da972c1b-03e1-461b-f938-11be0a2c4e03"
      },
      "execution_count": 162,
      "outputs": [
        {
          "output_type": "execute_result",
          "data": {
            "text/plain": [
              "array([([0, 0, 0], [0., 0.]), ([0, 0, 0], [0., 0.]),\n",
              "       ([0, 0, 0], [0., 0.]), ([0, 0, 0], [0., 0.])],\n",
              "      dtype=[('x', '<i8', (3,)), ('y', '<f8', (2,))])"
            ]
          },
          "metadata": {},
          "execution_count": 162
        }
      ]
    },
    {
      "cell_type": "code",
      "source": [
        "arr[0]['x']"
      ],
      "metadata": {
        "colab": {
          "base_uri": "https://localhost:8080/"
        },
        "id": "z32jj_pdwhk1",
        "outputId": "2174d000-dde9-49c8-ca12-ebc7a2d170b9"
      },
      "execution_count": 163,
      "outputs": [
        {
          "output_type": "execute_result",
          "data": {
            "text/plain": [
              "array([0, 0, 0])"
            ]
          },
          "metadata": {},
          "execution_count": 163
        }
      ]
    },
    {
      "cell_type": "code",
      "source": [
        "arr['x']"
      ],
      "metadata": {
        "colab": {
          "base_uri": "https://localhost:8080/"
        },
        "id": "uWOZbXaswmBK",
        "outputId": "13eeaf57-3ced-4166-dc5b-23fbd98dfb96"
      },
      "execution_count": 164,
      "outputs": [
        {
          "output_type": "execute_result",
          "data": {
            "text/plain": [
              "array([[0, 0, 0],\n",
              "       [0, 0, 0],\n",
              "       [0, 0, 0],\n",
              "       [0, 0, 0]])"
            ]
          },
          "metadata": {},
          "execution_count": 164
        }
      ]
    },
    {
      "cell_type": "code",
      "source": [
        "dtype = [('x', [('a', 'int64'), ('b', 'int64')],), ('y', 'float64')]"
      ],
      "metadata": {
        "id": "Td1rnDRjwrlm"
      },
      "execution_count": 165,
      "outputs": []
    },
    {
      "cell_type": "code",
      "source": [
        "nested_structured_array = np.zeros(4, dtype= dtype)"
      ],
      "metadata": {
        "id": "49lSSMFWxOPC"
      },
      "execution_count": 166,
      "outputs": []
    },
    {
      "cell_type": "code",
      "source": [
        "nested_structured_array"
      ],
      "metadata": {
        "colab": {
          "base_uri": "https://localhost:8080/"
        },
        "id": "bP7XAch2xVHi",
        "outputId": "d0756597-c049-48ec-a065-4e72b32a9af5"
      },
      "execution_count": 167,
      "outputs": [
        {
          "output_type": "execute_result",
          "data": {
            "text/plain": [
              "array([((0, 0), 0.), ((0, 0), 0.), ((0, 0), 0.), ((0, 0), 0.)],\n",
              "      dtype=[('x', [('a', '<i8'), ('b', '<i8')]), ('y', '<f8')])"
            ]
          },
          "metadata": {},
          "execution_count": 167
        }
      ]
    },
    {
      "cell_type": "code",
      "source": [
        "nested_structured_array['x']"
      ],
      "metadata": {
        "colab": {
          "base_uri": "https://localhost:8080/"
        },
        "id": "8H1cZWcaxXh6",
        "outputId": "754a267c-e9ba-403a-bdce-f6bfddec3c91"
      },
      "execution_count": 168,
      "outputs": [
        {
          "output_type": "execute_result",
          "data": {
            "text/plain": [
              "array([(0, 0), (0, 0), (0, 0), (0, 0)], dtype=[('a', '<i8'), ('b', '<i8')])"
            ]
          },
          "metadata": {},
          "execution_count": 168
        }
      ]
    },
    {
      "cell_type": "code",
      "source": [
        "nested_structured_array['x']['a']"
      ],
      "metadata": {
        "colab": {
          "base_uri": "https://localhost:8080/"
        },
        "id": "zhvclno8xeHg",
        "outputId": "f1a16298-ef2c-4330-92af-150f73b1a2a2"
      },
      "execution_count": 169,
      "outputs": [
        {
          "output_type": "execute_result",
          "data": {
            "text/plain": [
              "array([0, 0, 0, 0])"
            ]
          },
          "metadata": {},
          "execution_count": 169
        }
      ]
    },
    {
      "cell_type": "code",
      "source": [
        "nested_structured_array['y']"
      ],
      "metadata": {
        "colab": {
          "base_uri": "https://localhost:8080/"
        },
        "id": "LGZEJ5jOxkaM",
        "outputId": "e188cda8-b280-4589-b636-f234b2b04495"
      },
      "execution_count": 170,
      "outputs": [
        {
          "output_type": "execute_result",
          "data": {
            "text/plain": [
              "array([0., 0., 0., 0.])"
            ]
          },
          "metadata": {},
          "execution_count": 170
        }
      ]
    },
    {
      "cell_type": "markdown",
      "source": [
        "#More About Sorting"
      ],
      "metadata": {
        "id": "By-B2Y0VxmK5"
      }
    },
    {
      "cell_type": "code",
      "source": [
        "arr = rng.standard_normal(7)"
      ],
      "metadata": {
        "id": "0wIU0IycyDdA"
      },
      "execution_count": 171,
      "outputs": []
    },
    {
      "cell_type": "code",
      "source": [
        "arr"
      ],
      "metadata": {
        "colab": {
          "base_uri": "https://localhost:8080/"
        },
        "id": "VgGDqXe3yQC5",
        "outputId": "733b0a3b-6efd-48f6-a409-fac421af4a11"
      },
      "execution_count": 172,
      "outputs": [
        {
          "output_type": "execute_result",
          "data": {
            "text/plain": [
              "array([ 1.39451773, -1.30866366, -0.25409492,  0.25057645, -0.21527984,\n",
              "        0.5693466 , -0.16877397])"
            ]
          },
          "metadata": {},
          "execution_count": 172
        }
      ]
    },
    {
      "cell_type": "code",
      "source": [
        "arr.sort()"
      ],
      "metadata": {
        "id": "e7q1p-Z1yMWd"
      },
      "execution_count": 173,
      "outputs": []
    },
    {
      "cell_type": "code",
      "source": [
        "arr"
      ],
      "metadata": {
        "colab": {
          "base_uri": "https://localhost:8080/"
        },
        "id": "UZ_hfZ-GyNDj",
        "outputId": "18d3c12e-c72e-4948-8305-3e712731249b"
      },
      "execution_count": 174,
      "outputs": [
        {
          "output_type": "execute_result",
          "data": {
            "text/plain": [
              "array([-1.30866366, -0.25409492, -0.21527984, -0.16877397,  0.25057645,\n",
              "        0.5693466 ,  1.39451773])"
            ]
          },
          "metadata": {},
          "execution_count": 174
        }
      ]
    },
    {
      "cell_type": "code",
      "source": [
        "arr2d = rng.standard_normal((3, 5))"
      ],
      "metadata": {
        "id": "FynKZ3xnyN3k"
      },
      "execution_count": 175,
      "outputs": []
    },
    {
      "cell_type": "code",
      "source": [
        "arr2d"
      ],
      "metadata": {
        "colab": {
          "base_uri": "https://localhost:8080/"
        },
        "id": "tsOQBnpRydCU",
        "outputId": "ec5677bf-6b22-462a-b507-3c5aa4f87d5b"
      },
      "execution_count": 176,
      "outputs": [
        {
          "output_type": "execute_result",
          "data": {
            "text/plain": [
              "array([[ 1.46585853, -1.20297692,  0.43034205,  0.15217255, -1.4535079 ],\n",
              "       [-0.73145337,  0.98473474, -0.67899187, -0.48447733,  0.58414676],\n",
              "       [-0.13718003,  0.43959476,  0.96443963,  0.74513416,  0.17846528]])"
            ]
          },
          "metadata": {},
          "execution_count": 176
        }
      ]
    },
    {
      "cell_type": "code",
      "source": [
        "arr2d.sort()"
      ],
      "metadata": {
        "id": "rMNYnTu7yd8S"
      },
      "execution_count": 177,
      "outputs": []
    },
    {
      "cell_type": "code",
      "source": [
        "arr2d"
      ],
      "metadata": {
        "colab": {
          "base_uri": "https://localhost:8080/"
        },
        "id": "G_pECx8gyenU",
        "outputId": "444c7210-4447-455e-a899-ca63af723f9e"
      },
      "execution_count": 178,
      "outputs": [
        {
          "output_type": "execute_result",
          "data": {
            "text/plain": [
              "array([[-1.4535079 , -1.20297692,  0.15217255,  0.43034205,  1.46585853],\n",
              "       [-0.73145337, -0.67899187, -0.48447733,  0.58414676,  0.98473474],\n",
              "       [-0.13718003,  0.17846528,  0.43959476,  0.74513416,  0.96443963]])"
            ]
          },
          "metadata": {},
          "execution_count": 178
        }
      ]
    },
    {
      "cell_type": "code",
      "source": [
        "arr = rng.standard_normal(5)"
      ],
      "metadata": {
        "id": "5J4yiVpzye7H"
      },
      "execution_count": 179,
      "outputs": []
    },
    {
      "cell_type": "code",
      "source": [
        "arr"
      ],
      "metadata": {
        "colab": {
          "base_uri": "https://localhost:8080/"
        },
        "id": "02si4Vyoy2Ov",
        "outputId": "669e3232-b4bf-4669-abd1-616d8c3e20a0"
      },
      "execution_count": 180,
      "outputs": [
        {
          "output_type": "execute_result",
          "data": {
            "text/plain": [
              "array([ 0.6975714 ,  0.32561761, -0.95333009,  0.78436601,  0.7416942 ])"
            ]
          },
          "metadata": {},
          "execution_count": 180
        }
      ]
    },
    {
      "cell_type": "code",
      "source": [
        "np.sort(arr)"
      ],
      "metadata": {
        "colab": {
          "base_uri": "https://localhost:8080/"
        },
        "id": "cVq5URu0y2xD",
        "outputId": "ff88f641-189e-4a6e-ed2d-7e4e8c3b871d"
      },
      "execution_count": 181,
      "outputs": [
        {
          "output_type": "execute_result",
          "data": {
            "text/plain": [
              "array([-0.95333009,  0.32561761,  0.6975714 ,  0.7416942 ,  0.78436601])"
            ]
          },
          "metadata": {},
          "execution_count": 181
        }
      ]
    },
    {
      "cell_type": "code",
      "source": [
        "arr"
      ],
      "metadata": {
        "colab": {
          "base_uri": "https://localhost:8080/"
        },
        "id": "EVdolp2Cy3-I",
        "outputId": "3e73f9f4-b7ab-4d39-ae54-d06d43aa0600"
      },
      "execution_count": 182,
      "outputs": [
        {
          "output_type": "execute_result",
          "data": {
            "text/plain": [
              "array([ 0.6975714 ,  0.32561761, -0.95333009,  0.78436601,  0.7416942 ])"
            ]
          },
          "metadata": {},
          "execution_count": 182
        }
      ]
    },
    {
      "cell_type": "code",
      "source": [
        "arr2d = rng.standard_normal((3, 5))"
      ],
      "metadata": {
        "id": "gjQvnZfly4cM"
      },
      "execution_count": 183,
      "outputs": []
    },
    {
      "cell_type": "code",
      "source": [
        "arr2d"
      ],
      "metadata": {
        "colab": {
          "base_uri": "https://localhost:8080/"
        },
        "id": "7qOJ2YiRy_7D",
        "outputId": "a027e53c-5eac-4b86-f415-4327eb35d0cf"
      },
      "execution_count": 184,
      "outputs": [
        {
          "output_type": "execute_result",
          "data": {
            "text/plain": [
              "array([[ 0.05967091,  1.94756264,  1.34064395,  0.41467602, -0.48233568],\n",
              "       [ 1.17010935,  0.92839012, -1.14692057, -0.03008327, -0.10869556],\n",
              "       [-0.13111287, -0.60783509,  1.82888382, -2.22118014,  0.43998846]])"
            ]
          },
          "metadata": {},
          "execution_count": 184
        }
      ]
    },
    {
      "cell_type": "code",
      "source": [
        "arr2d.sort(axis= 1)"
      ],
      "metadata": {
        "id": "E8oicVPXzAnN"
      },
      "execution_count": 185,
      "outputs": []
    },
    {
      "cell_type": "code",
      "source": [
        "arr2d"
      ],
      "metadata": {
        "colab": {
          "base_uri": "https://localhost:8080/"
        },
        "id": "n_ljUgoMzNHr",
        "outputId": "642db67b-645f-4343-de07-3d797eb4c872"
      },
      "execution_count": 186,
      "outputs": [
        {
          "output_type": "execute_result",
          "data": {
            "text/plain": [
              "array([[-0.48233568,  0.05967091,  0.41467602,  1.34064395,  1.94756264],\n",
              "       [-1.14692057, -0.10869556, -0.03008327,  0.92839012,  1.17010935],\n",
              "       [-2.22118014, -0.60783509, -0.13111287,  0.43998846,  1.82888382]])"
            ]
          },
          "metadata": {},
          "execution_count": 186
        }
      ]
    },
    {
      "cell_type": "code",
      "source": [
        "arr2d[:, ::-1]"
      ],
      "metadata": {
        "colab": {
          "base_uri": "https://localhost:8080/"
        },
        "id": "dkh-0CMgzN53",
        "outputId": "c9f2aca5-20ce-4962-81d8-cf69ad832640"
      },
      "execution_count": 187,
      "outputs": [
        {
          "output_type": "execute_result",
          "data": {
            "text/plain": [
              "array([[ 1.94756264,  1.34064395,  0.41467602,  0.05967091, -0.48233568],\n",
              "       [ 1.17010935,  0.92839012, -0.03008327, -0.10869556, -1.14692057],\n",
              "       [ 1.82888382,  0.43998846, -0.13111287, -0.60783509, -2.22118014]])"
            ]
          },
          "metadata": {},
          "execution_count": 187
        }
      ]
    },
    {
      "cell_type": "markdown",
      "source": [
        "##Indirect Sorts: argsort and lexsort"
      ],
      "metadata": {
        "id": "lY5bSKXDzwch"
      }
    },
    {
      "cell_type": "code",
      "source": [
        "values = np.array([5, 0, 1, 3, 2])"
      ],
      "metadata": {
        "id": "97lkPY5Gz5sY"
      },
      "execution_count": 188,
      "outputs": []
    },
    {
      "cell_type": "code",
      "source": [
        "indexer = values.argsort()"
      ],
      "metadata": {
        "id": "AsPYCDVOAvsx"
      },
      "execution_count": 189,
      "outputs": []
    },
    {
      "cell_type": "code",
      "source": [
        "indexer"
      ],
      "metadata": {
        "colab": {
          "base_uri": "https://localhost:8080/"
        },
        "id": "tmsmIJq8AyO6",
        "outputId": "0a54d83e-2560-44a4-ce48-e89ae3ce5275"
      },
      "execution_count": 190,
      "outputs": [
        {
          "output_type": "execute_result",
          "data": {
            "text/plain": [
              "array([1, 2, 4, 3, 0])"
            ]
          },
          "metadata": {},
          "execution_count": 190
        }
      ]
    },
    {
      "cell_type": "code",
      "source": [
        "values[indexer]"
      ],
      "metadata": {
        "colab": {
          "base_uri": "https://localhost:8080/"
        },
        "id": "QfhzJYn7Aywc",
        "outputId": "200fb817-caa6-4826-b08a-97770a203e9c"
      },
      "execution_count": 191,
      "outputs": [
        {
          "output_type": "execute_result",
          "data": {
            "text/plain": [
              "array([0, 1, 2, 3, 5])"
            ]
          },
          "metadata": {},
          "execution_count": 191
        }
      ]
    },
    {
      "cell_type": "code",
      "source": [
        "arr = rng.standard_normal((3, 5))"
      ],
      "metadata": {
        "id": "NUQp6QHWAzck"
      },
      "execution_count": 192,
      "outputs": []
    },
    {
      "cell_type": "code",
      "source": [
        "arr[0] = values"
      ],
      "metadata": {
        "id": "E-t_5-Q9BDBl"
      },
      "execution_count": 193,
      "outputs": []
    },
    {
      "cell_type": "code",
      "source": [
        "arr"
      ],
      "metadata": {
        "colab": {
          "base_uri": "https://localhost:8080/"
        },
        "id": "hkt5cAPEBEa-",
        "outputId": "e2978504-088c-4a71-9ee6-cac6b56e33b6"
      },
      "execution_count": 194,
      "outputs": [
        {
          "output_type": "execute_result",
          "data": {
            "text/plain": [
              "array([[ 5.        ,  0.        ,  1.        ,  3.        ,  2.        ],\n",
              "       [-1.14224327,  0.79211819,  0.06288085,  0.67570686, -1.19488019],\n",
              "       [ 1.88259363,  0.88836525, -0.71855252, -0.08737014,  0.25946087]])"
            ]
          },
          "metadata": {},
          "execution_count": 194
        }
      ]
    },
    {
      "cell_type": "code",
      "source": [
        "arr.argsort()"
      ],
      "metadata": {
        "colab": {
          "base_uri": "https://localhost:8080/"
        },
        "id": "6Ivn-16yBEtd",
        "outputId": "34f54f5d-9f6d-4b3f-bd69-28a3f1fbcefb"
      },
      "execution_count": 195,
      "outputs": [
        {
          "output_type": "execute_result",
          "data": {
            "text/plain": [
              "array([[1, 2, 4, 3, 0],\n",
              "       [4, 0, 2, 3, 1],\n",
              "       [2, 3, 4, 1, 0]])"
            ]
          },
          "metadata": {},
          "execution_count": 195
        }
      ]
    },
    {
      "cell_type": "code",
      "source": [
        "arr[:, arr[0].argsort()]     # sorting by first row"
      ],
      "metadata": {
        "colab": {
          "base_uri": "https://localhost:8080/"
        },
        "id": "C27P4vWTBTrX",
        "outputId": "87cac75e-fe7e-47ce-c9e0-6b55fa1f6c80"
      },
      "execution_count": 196,
      "outputs": [
        {
          "output_type": "execute_result",
          "data": {
            "text/plain": [
              "array([[ 0.        ,  1.        ,  2.        ,  3.        ,  5.        ],\n",
              "       [ 0.79211819,  0.06288085, -1.19488019,  0.67570686, -1.14224327],\n",
              "       [ 0.88836525, -0.71855252,  0.25946087, -0.08737014,  1.88259363]])"
            ]
          },
          "metadata": {},
          "execution_count": 196
        }
      ]
    },
    {
      "cell_type": "code",
      "source": [
        "first_name = np.array(['Bob', 'Jane', 'Steve', 'Bill', 'Barbara'])"
      ],
      "metadata": {
        "id": "ELJ0B8_nCEsg"
      },
      "execution_count": 197,
      "outputs": []
    },
    {
      "cell_type": "code",
      "source": [
        "last_name = np.array(['Jones', 'Arnold', 'Arnold', 'Jones', 'Walters'])"
      ],
      "metadata": {
        "id": "k3z_LTOzCdjl"
      },
      "execution_count": 198,
      "outputs": []
    },
    {
      "cell_type": "code",
      "source": [
        "sorter = np.lexsort((first_name, last_name))"
      ],
      "metadata": {
        "id": "sfBlvYezCh8d"
      },
      "execution_count": 199,
      "outputs": []
    },
    {
      "cell_type": "code",
      "source": [
        "sorter"
      ],
      "metadata": {
        "colab": {
          "base_uri": "https://localhost:8080/"
        },
        "id": "QjjWWRdACjf-",
        "outputId": "b0bb4030-06d4-450d-c57a-1e3bc1121a25"
      },
      "execution_count": 200,
      "outputs": [
        {
          "output_type": "execute_result",
          "data": {
            "text/plain": [
              "array([1, 2, 3, 0, 4])"
            ]
          },
          "metadata": {},
          "execution_count": 200
        }
      ]
    },
    {
      "cell_type": "code",
      "source": [
        "list(zip(last_name[sorter], first_name[sorter]))"
      ],
      "metadata": {
        "colab": {
          "base_uri": "https://localhost:8080/"
        },
        "id": "e1fphD8xCkG6",
        "outputId": "6cc4d231-da83-4600-ab2d-f754c8b9a3e5"
      },
      "execution_count": 201,
      "outputs": [
        {
          "output_type": "execute_result",
          "data": {
            "text/plain": [
              "[('Arnold', 'Jane'),\n",
              " ('Arnold', 'Steve'),\n",
              " ('Jones', 'Bill'),\n",
              " ('Jones', 'Bob'),\n",
              " ('Walters', 'Barbara')]"
            ]
          },
          "metadata": {},
          "execution_count": 201
        }
      ]
    },
    {
      "cell_type": "markdown",
      "source": [
        "##Alternative Sort Algorithms"
      ],
      "metadata": {
        "id": "c5EPLhIyCpYB"
      }
    },
    {
      "cell_type": "code",
      "source": [
        "values = np.array(['2:first', '2:second', '1:first', '1:second', '1:third'])"
      ],
      "metadata": {
        "id": "ohN4Ni8gDDfc"
      },
      "execution_count": 202,
      "outputs": []
    },
    {
      "cell_type": "code",
      "source": [
        "key = np.array([2, 2, 1, 1, 1])"
      ],
      "metadata": {
        "id": "weUCHmE3EX0w"
      },
      "execution_count": 203,
      "outputs": []
    },
    {
      "cell_type": "code",
      "source": [
        "indexer = key.argsort(kind= 'mergesort')"
      ],
      "metadata": {
        "id": "KkzkG-bZEc1E"
      },
      "execution_count": 204,
      "outputs": []
    },
    {
      "cell_type": "code",
      "source": [
        "indexer"
      ],
      "metadata": {
        "colab": {
          "base_uri": "https://localhost:8080/"
        },
        "id": "yPfYkFXgGCYr",
        "outputId": "c4531afa-c360-45f2-98a6-41d84b0d91fb"
      },
      "execution_count": 205,
      "outputs": [
        {
          "output_type": "execute_result",
          "data": {
            "text/plain": [
              "array([2, 3, 4, 0, 1])"
            ]
          },
          "metadata": {},
          "execution_count": 205
        }
      ]
    },
    {
      "cell_type": "code",
      "source": [
        "values.take(indexer)    # values[indexer]"
      ],
      "metadata": {
        "colab": {
          "base_uri": "https://localhost:8080/"
        },
        "id": "NWXHeajwGEOY",
        "outputId": "082a4c8e-4dba-4c0a-ba75-276ee32d4060"
      },
      "execution_count": 206,
      "outputs": [
        {
          "output_type": "execute_result",
          "data": {
            "text/plain": [
              "array(['1:first', '1:second', '1:third', '2:first', '2:second'],\n",
              "      dtype='<U8')"
            ]
          },
          "metadata": {},
          "execution_count": 206
        }
      ]
    },
    {
      "cell_type": "markdown",
      "source": [
        "## Partially Sorting Arrays"
      ],
      "metadata": {
        "id": "X8NAWIkfGHZv"
      }
    },
    {
      "cell_type": "code",
      "source": [
        "rng = np.random.default_rng(12345)"
      ],
      "metadata": {
        "id": "_g9jk558GN2f"
      },
      "execution_count": 207,
      "outputs": []
    },
    {
      "cell_type": "code",
      "source": [
        "arr = rng.standard_normal(20)"
      ],
      "metadata": {
        "id": "ujWh3xCOIQ5L"
      },
      "execution_count": 208,
      "outputs": []
    },
    {
      "cell_type": "code",
      "source": [
        "arr"
      ],
      "metadata": {
        "colab": {
          "base_uri": "https://localhost:8080/"
        },
        "id": "xSxB58arIVJJ",
        "outputId": "3d806a4f-d278-4207-9ff8-65986baf5253"
      },
      "execution_count": 209,
      "outputs": [
        {
          "output_type": "execute_result",
          "data": {
            "text/plain": [
              "array([-1.42382504,  1.26372846, -0.87066174, -0.25917323, -0.07534331,\n",
              "       -0.74088465, -1.3677927 ,  0.6488928 ,  0.36105811, -1.95286306,\n",
              "        2.34740965,  0.96849691, -0.75938718,  0.90219827, -0.46695317,\n",
              "       -0.06068952,  0.78884434, -1.25666813,  0.57585751,  1.39897899])"
            ]
          },
          "metadata": {},
          "execution_count": 209
        }
      ]
    },
    {
      "cell_type": "code",
      "source": [
        "np.partition(arr, 3)"
      ],
      "metadata": {
        "colab": {
          "base_uri": "https://localhost:8080/"
        },
        "id": "komlIsVnIVsV",
        "outputId": "c79671bf-40a2-454f-904a-3a46c20e28ae"
      },
      "execution_count": 210,
      "outputs": [
        {
          "output_type": "execute_result",
          "data": {
            "text/plain": [
              "array([-1.95286306, -1.42382504, -1.3677927 , -1.25666813, -0.87066174,\n",
              "       -0.75938718, -0.74088465, -0.06068952,  0.36105811, -0.07534331,\n",
              "       -0.25917323, -0.46695317,  0.57585751,  0.90219827,  0.96849691,\n",
              "        0.6488928 ,  0.78884434,  1.26372846,  1.39897899,  2.34740965])"
            ]
          },
          "metadata": {},
          "execution_count": 210
        }
      ]
    },
    {
      "cell_type": "code",
      "source": [
        "indices = np.argpartition(arr, 3)"
      ],
      "metadata": {
        "id": "oFeLnNECJdKG"
      },
      "execution_count": 211,
      "outputs": []
    },
    {
      "cell_type": "code",
      "source": [
        "indices"
      ],
      "metadata": {
        "colab": {
          "base_uri": "https://localhost:8080/"
        },
        "id": "C18FSMgcJk_l",
        "outputId": "ca44db92-31e5-40bc-f398-add93129a4c9"
      },
      "execution_count": 212,
      "outputs": [
        {
          "output_type": "execute_result",
          "data": {
            "text/plain": [
              "array([ 9,  0,  6, 17,  2, 12,  5, 15,  8,  4,  3, 14, 18, 13, 11,  7, 16,\n",
              "        1, 19, 10])"
            ]
          },
          "metadata": {},
          "execution_count": 212
        }
      ]
    },
    {
      "cell_type": "code",
      "source": [
        "arr.take(indices)"
      ],
      "metadata": {
        "colab": {
          "base_uri": "https://localhost:8080/"
        },
        "id": "48UM5ognJlhH",
        "outputId": "5e750955-fcde-424f-ad3c-ea616fcd00c5"
      },
      "execution_count": 213,
      "outputs": [
        {
          "output_type": "execute_result",
          "data": {
            "text/plain": [
              "array([-1.95286306, -1.42382504, -1.3677927 , -1.25666813, -0.87066174,\n",
              "       -0.75938718, -0.74088465, -0.06068952,  0.36105811, -0.07534331,\n",
              "       -0.25917323, -0.46695317,  0.57585751,  0.90219827,  0.96849691,\n",
              "        0.6488928 ,  0.78884434,  1.26372846,  1.39897899,  2.34740965])"
            ]
          },
          "metadata": {},
          "execution_count": 213
        }
      ]
    },
    {
      "cell_type": "markdown",
      "source": [
        "## numpy.searchsorted: Finding Elements in a sorted array"
      ],
      "metadata": {
        "id": "5KxKjIRQJmqF"
      }
    },
    {
      "cell_type": "code",
      "source": [
        "arr = np.arange(0, 500, 3)"
      ],
      "metadata": {
        "id": "sTeP1SpRKRCH"
      },
      "execution_count": 214,
      "outputs": []
    },
    {
      "cell_type": "code",
      "source": [
        "arr.searchsorted(270)"
      ],
      "metadata": {
        "colab": {
          "base_uri": "https://localhost:8080/"
        },
        "id": "Gp3vK_SOLhWp",
        "outputId": "b1b9387a-2c07-45b2-940a-3e4d1197ab0a"
      },
      "execution_count": 215,
      "outputs": [
        {
          "output_type": "execute_result",
          "data": {
            "text/plain": [
              "90"
            ]
          },
          "metadata": {},
          "execution_count": 215
        }
      ]
    },
    {
      "cell_type": "code",
      "source": [
        "arr.searchsorted([0, 8, 100, 273, 491])   # index to insert these elements to maintain sortedness"
      ],
      "metadata": {
        "colab": {
          "base_uri": "https://localhost:8080/"
        },
        "id": "d4fRN6RjLmR2",
        "outputId": "78804898-e3ba-4796-f373-5c7689ac02c1"
      },
      "execution_count": 216,
      "outputs": [
        {
          "output_type": "execute_result",
          "data": {
            "text/plain": [
              "array([  0,   3,  34,  91, 164])"
            ]
          },
          "metadata": {},
          "execution_count": 216
        }
      ]
    },
    {
      "cell_type": "code",
      "source": [
        "arr = np.array([0, 0, 0, 1, 1, 1, 1])"
      ],
      "metadata": {
        "id": "VFocoXheLzNA"
      },
      "execution_count": 217,
      "outputs": []
    },
    {
      "cell_type": "code",
      "source": [
        "arr.searchsorted([0, 1])"
      ],
      "metadata": {
        "colab": {
          "base_uri": "https://localhost:8080/"
        },
        "id": "9kW7xlLAM6fQ",
        "outputId": "4edcfac0-da3a-4131-bf83-4a38e22b35a2"
      },
      "execution_count": 218,
      "outputs": [
        {
          "output_type": "execute_result",
          "data": {
            "text/plain": [
              "array([0, 3])"
            ]
          },
          "metadata": {},
          "execution_count": 218
        }
      ]
    },
    {
      "cell_type": "code",
      "source": [
        "arr.searchsorted([0, 1], side= 'right')"
      ],
      "metadata": {
        "colab": {
          "base_uri": "https://localhost:8080/"
        },
        "id": "_cC2N4keM87x",
        "outputId": "5c159819-8b1d-4dc4-d664-d7b3f306afb3"
      },
      "execution_count": 219,
      "outputs": [
        {
          "output_type": "execute_result",
          "data": {
            "text/plain": [
              "array([3, 7])"
            ]
          },
          "metadata": {},
          "execution_count": 219
        }
      ]
    },
    {
      "cell_type": "code",
      "source": [
        "data = np.floor(rng.uniform(0, 10000, size= 50))"
      ],
      "metadata": {
        "id": "uo-AntjgM_hU"
      },
      "execution_count": 220,
      "outputs": []
    },
    {
      "cell_type": "code",
      "source": [
        "data"
      ],
      "metadata": {
        "colab": {
          "base_uri": "https://localhost:8080/"
        },
        "id": "MdmAoBxGO60k",
        "outputId": "03b55d39-dddf-4c0f-ac09-bf70e53f36ea"
      },
      "execution_count": 221,
      "outputs": [
        {
          "output_type": "execute_result",
          "data": {
            "text/plain": [
              "array([ 815., 1598., 3401., 4651., 2664., 8157., 1932., 1294.,  916.,\n",
              "       5985., 8547., 6016., 9319., 7247., 8605., 9293., 5461., 9376.,\n",
              "       4949., 2737., 4517., 6650., 3308., 9034., 2570., 3398., 2588.,\n",
              "       3554.,   50., 6286., 2823.,  680., 6168., 1763., 3043., 4408.,\n",
              "       1502., 2179., 4743., 4763., 2552., 2975., 2790., 2605., 4827.,\n",
              "       2119., 4956., 2462., 8384., 1801.])"
            ]
          },
          "metadata": {},
          "execution_count": 221
        }
      ]
    },
    {
      "cell_type": "code",
      "source": [
        "bins = np.array([0, 100, 1000, 5000, 10000])"
      ],
      "metadata": {
        "id": "qWwVOn4SO95A"
      },
      "execution_count": 222,
      "outputs": []
    },
    {
      "cell_type": "code",
      "source": [
        "labels = bins.searchsorted(data)"
      ],
      "metadata": {
        "id": "KI45kjEpPBIH"
      },
      "execution_count": 223,
      "outputs": []
    },
    {
      "cell_type": "code",
      "source": [
        "labels"
      ],
      "metadata": {
        "colab": {
          "base_uri": "https://localhost:8080/"
        },
        "id": "EvTXy2FMPExI",
        "outputId": "0a45309c-95d6-4976-8122-cf814bbed503"
      },
      "execution_count": 224,
      "outputs": [
        {
          "output_type": "execute_result",
          "data": {
            "text/plain": [
              "array([2, 3, 3, 3, 3, 4, 3, 3, 2, 4, 4, 4, 4, 4, 4, 4, 4, 4, 3, 3, 3, 4,\n",
              "       3, 4, 3, 3, 3, 3, 1, 4, 3, 2, 4, 3, 3, 3, 3, 3, 3, 3, 3, 3, 3, 3,\n",
              "       3, 3, 3, 3, 4, 3])"
            ]
          },
          "metadata": {},
          "execution_count": 224
        }
      ]
    },
    {
      "cell_type": "code",
      "source": [
        "import pandas as pd"
      ],
      "metadata": {
        "id": "_kbEiNnAPFeO"
      },
      "execution_count": 225,
      "outputs": []
    },
    {
      "cell_type": "code",
      "source": [
        "pd.Series(data).groupby(labels).mean()"
      ],
      "metadata": {
        "colab": {
          "base_uri": "https://localhost:8080/"
        },
        "id": "0b_4ATt7PIvR",
        "outputId": "4e0c4936-79f0-40f0-b72a-9e5ec87fbe23"
      },
      "execution_count": 226,
      "outputs": [
        {
          "output_type": "execute_result",
          "data": {
            "text/plain": [
              "1      50.000000\n",
              "2     803.666667\n",
              "3    3079.741935\n",
              "4    7635.200000\n",
              "dtype: float64"
            ]
          },
          "metadata": {},
          "execution_count": 226
        }
      ]
    },
    {
      "cell_type": "markdown",
      "source": [
        "# Writing Fast NumPy Functions with Numba"
      ],
      "metadata": {
        "id": "z9nSaRndPMgE"
      }
    },
    {
      "cell_type": "code",
      "source": [
        "def mean_distance(x: np.ndarray, y: np.ndarray) -> float:\n",
        "    sum = 0\n",
        "    n = 0\n",
        "\n",
        "    for i in range(len(x)):\n",
        "        sum += x[i] - y[i]\n",
        "        n += 1\n",
        "\n",
        "    return sum / n"
      ],
      "metadata": {
        "id": "VxfkaMtGPcwx"
      },
      "execution_count": 227,
      "outputs": []
    },
    {
      "cell_type": "code",
      "source": [
        "x = rng.standard_normal(10_000_000)"
      ],
      "metadata": {
        "id": "Je6Oot754M6A"
      },
      "execution_count": 228,
      "outputs": []
    },
    {
      "cell_type": "code",
      "source": [
        "y = rng.standard_normal(10_000_000)"
      ],
      "metadata": {
        "id": "WI7EhUJP4Wff"
      },
      "execution_count": 229,
      "outputs": []
    },
    {
      "cell_type": "code",
      "source": [
        "%timeit mean_distance(x, y)"
      ],
      "metadata": {
        "colab": {
          "base_uri": "https://localhost:8080/"
        },
        "id": "1zZw4le34Y3b",
        "outputId": "932936d7-4e41-4ab3-a74a-be93357e6672"
      },
      "execution_count": 230,
      "outputs": [
        {
          "output_type": "stream",
          "name": "stdout",
          "text": [
            "4.69 s ± 726 ms per loop (mean ± std. dev. of 7 runs, 1 loop each)\n"
          ]
        }
      ]
    },
    {
      "cell_type": "code",
      "source": [
        "%timeit (x - y).mean()"
      ],
      "metadata": {
        "colab": {
          "base_uri": "https://localhost:8080/"
        },
        "id": "-qEYffDV4bkT",
        "outputId": "938b7a26-0726-41fa-ae27-30909aed6c4a"
      },
      "execution_count": 231,
      "outputs": [
        {
          "output_type": "stream",
          "name": "stdout",
          "text": [
            "41.9 ms ± 512 µs per loop (mean ± std. dev. of 7 runs, 10 loops each)\n"
          ]
        }
      ]
    },
    {
      "cell_type": "code",
      "source": [
        "import numba as nb"
      ],
      "metadata": {
        "id": "6qRhQ26l4eiB"
      },
      "execution_count": 232,
      "outputs": []
    },
    {
      "cell_type": "code",
      "source": [
        "numba_mean_distance = nb.jit(mean_distance, nopython= True)"
      ],
      "metadata": {
        "id": "-WQksB3c43X4"
      },
      "execution_count": 233,
      "outputs": []
    },
    {
      "cell_type": "code",
      "source": [
        "@nb.jit(nopython= True)\n",
        "def mean_numba(x: np.ndarray, y: np.ndarray) -> float:\n",
        "    sum = 0\n",
        "    n = 0\n",
        "\n",
        "    for i in range(len(x)):\n",
        "        sum += x[i] - y[i]\n",
        "        n += 1\n",
        "\n",
        "    return sum / n"
      ],
      "metadata": {
        "id": "EfZ3o1go5Bgn"
      },
      "execution_count": 234,
      "outputs": []
    },
    {
      "cell_type": "code",
      "source": [
        "%timeit numba_mean_distance(x, y)"
      ],
      "metadata": {
        "colab": {
          "base_uri": "https://localhost:8080/"
        },
        "id": "Q5A2Ambm6IUU",
        "outputId": "946a28ee-7ade-4b4e-b614-8a33bbebfef2"
      },
      "execution_count": 235,
      "outputs": [
        {
          "output_type": "stream",
          "name": "stdout",
          "text": [
            "18.1 ms ± 109 µs per loop (mean ± std. dev. of 7 runs, 1 loop each)\n"
          ]
        }
      ]
    },
    {
      "cell_type": "code",
      "source": [
        "%timeit mean_numba(x, y)"
      ],
      "metadata": {
        "colab": {
          "base_uri": "https://localhost:8080/"
        },
        "id": "bXn2YMmx6PiU",
        "outputId": "c40d07ff-88e3-41fd-c1e7-8a491e6efd92"
      },
      "execution_count": 236,
      "outputs": [
        {
          "output_type": "stream",
          "name": "stdout",
          "text": [
            "18.9 ms ± 672 µs per loop (mean ± std. dev. of 7 runs, 100 loops each)\n"
          ]
        }
      ]
    },
    {
      "cell_type": "code",
      "source": [
        "@nb.njit(nb.float64(nb.float64[:], nb.float64[:]))\n",
        "def mean_numba_n(x: np.ndarray, y: np.ndarray) -> float:\n",
        "    return (x - y).mean()"
      ],
      "metadata": {
        "id": "9XOh_SPa6QyI"
      },
      "execution_count": 237,
      "outputs": []
    },
    {
      "cell_type": "code",
      "source": [
        "%timeit mean_numba_n(x, y)"
      ],
      "metadata": {
        "colab": {
          "base_uri": "https://localhost:8080/"
        },
        "id": "BVKSd5-w8FQe",
        "outputId": "f126bf17-b934-43bd-a1ca-0e58136479e0"
      },
      "execution_count": 238,
      "outputs": [
        {
          "output_type": "stream",
          "name": "stdout",
          "text": [
            "86.3 ms ± 8.92 ms per loop (mean ± std. dev. of 7 runs, 10 loops each)\n"
          ]
        }
      ]
    },
    {
      "cell_type": "markdown",
      "source": [
        "## Creating Custom numpy.ufunc Objects with Numba"
      ],
      "metadata": {
        "id": "zU6ECyFM8PRA"
      }
    },
    {
      "cell_type": "code",
      "source": [
        "from numba import vectorize"
      ],
      "metadata": {
        "id": "6APzGDvL8z4r"
      },
      "execution_count": 239,
      "outputs": []
    },
    {
      "cell_type": "code",
      "source": [
        "@vectorize\n",
        "def nb_add(x, y):\n",
        "    return x + y"
      ],
      "metadata": {
        "id": "aLAq8pHb83tn"
      },
      "execution_count": 240,
      "outputs": []
    },
    {
      "cell_type": "code",
      "source": [
        "x = np.arange(10)"
      ],
      "metadata": {
        "id": "Vw45iLng88cx"
      },
      "execution_count": 241,
      "outputs": []
    },
    {
      "cell_type": "code",
      "source": [
        "nb_add(x, x)"
      ],
      "metadata": {
        "colab": {
          "base_uri": "https://localhost:8080/"
        },
        "id": "G-tV60hu8-Yq",
        "outputId": "eb023061-949b-422c-ea38-2b903bf2c463"
      },
      "execution_count": 242,
      "outputs": [
        {
          "output_type": "execute_result",
          "data": {
            "text/plain": [
              "array([ 0,  2,  4,  6,  8, 10, 12, 14, 16, 18])"
            ]
          },
          "metadata": {},
          "execution_count": 242
        }
      ]
    },
    {
      "cell_type": "code",
      "source": [
        "nb_add.accumulate(x)"
      ],
      "metadata": {
        "colab": {
          "base_uri": "https://localhost:8080/"
        },
        "id": "rmAqpjjM8_3M",
        "outputId": "7ed90711-70f6-4afc-9661-9231892b59ba"
      },
      "execution_count": 244,
      "outputs": [
        {
          "output_type": "execute_result",
          "data": {
            "text/plain": [
              "array([ 0,  1,  3,  6, 10, 15, 21, 28, 36, 45])"
            ]
          },
          "metadata": {},
          "execution_count": 244
        }
      ]
    },
    {
      "cell_type": "markdown",
      "source": [
        "# Advanced Array Input and Output\n",
        "## Memory-Mapped Files"
      ],
      "metadata": {
        "id": "d7JKir9t9Cz_"
      }
    },
    {
      "cell_type": "code",
      "source": [
        "mmap = np.memmap('mymap', dtype= 'float64', mode= 'w+', shape= (10000, 10000))"
      ],
      "metadata": {
        "id": "twxQOxod9fbA"
      },
      "execution_count": 253,
      "outputs": []
    },
    {
      "cell_type": "code",
      "source": [
        "mmap"
      ],
      "metadata": {
        "colab": {
          "base_uri": "https://localhost:8080/"
        },
        "id": "3tezW0jB_pFp",
        "outputId": "f150b68d-9411-4081-9c5f-f0ae20dc08a4"
      },
      "execution_count": 254,
      "outputs": [
        {
          "output_type": "execute_result",
          "data": {
            "text/plain": [
              "memmap([[0., 0., 0., ..., 0., 0., 0.],\n",
              "        [0., 0., 0., ..., 0., 0., 0.],\n",
              "        [0., 0., 0., ..., 0., 0., 0.],\n",
              "        ...,\n",
              "        [0., 0., 0., ..., 0., 0., 0.],\n",
              "        [0., 0., 0., ..., 0., 0., 0.],\n",
              "        [0., 0., 0., ..., 0., 0., 0.]])"
            ]
          },
          "metadata": {},
          "execution_count": 254
        }
      ]
    },
    {
      "cell_type": "code",
      "source": [
        "section = mmap[:5]"
      ],
      "metadata": {
        "id": "DaVTYiqD_peq"
      },
      "execution_count": 255,
      "outputs": []
    },
    {
      "cell_type": "code",
      "source": [
        "section[:] = rng.standard_normal((5, 10000))"
      ],
      "metadata": {
        "id": "1V4Rxuxb_vx3"
      },
      "execution_count": 256,
      "outputs": []
    },
    {
      "cell_type": "code",
      "source": [
        "mmap"
      ],
      "metadata": {
        "colab": {
          "base_uri": "https://localhost:8080/"
        },
        "id": "kVFovyeiAAmj",
        "outputId": "4865e19b-1269-46db-f650-a528b42701d2"
      },
      "execution_count": 257,
      "outputs": [
        {
          "output_type": "execute_result",
          "data": {
            "text/plain": [
              "memmap([[ 0.87261505, -0.43904416,  0.36104378, ..., -0.58223029,\n",
              "          1.77299113, -0.06148116],\n",
              "        [ 0.19793309,  2.54419456,  0.9167002 , ...,  0.17414909,\n",
              "          0.8363528 , -0.64138733],\n",
              "        [-0.86714563,  1.35076286,  0.00715899, ...,  0.08768643,\n",
              "          1.79289497, -2.03982074],\n",
              "        ...,\n",
              "        [ 0.        ,  0.        ,  0.        , ...,  0.        ,\n",
              "          0.        ,  0.        ],\n",
              "        [ 0.        ,  0.        ,  0.        , ...,  0.        ,\n",
              "          0.        ,  0.        ],\n",
              "        [ 0.        ,  0.        ,  0.        , ...,  0.        ,\n",
              "          0.        ,  0.        ]])"
            ]
          },
          "metadata": {},
          "execution_count": 257
        }
      ]
    },
    {
      "cell_type": "code",
      "source": [
        "mmap.flush()"
      ],
      "metadata": {
        "id": "i0WpHownABu9"
      },
      "execution_count": 258,
      "outputs": []
    },
    {
      "cell_type": "code",
      "source": [
        "mmap"
      ],
      "metadata": {
        "colab": {
          "base_uri": "https://localhost:8080/"
        },
        "id": "-A7uC4zKAHVw",
        "outputId": "b6f706c0-36a5-4318-b8da-1e5509555bc4"
      },
      "execution_count": 259,
      "outputs": [
        {
          "output_type": "execute_result",
          "data": {
            "text/plain": [
              "memmap([[ 0.87261505, -0.43904416,  0.36104378, ..., -0.58223029,\n",
              "          1.77299113, -0.06148116],\n",
              "        [ 0.19793309,  2.54419456,  0.9167002 , ...,  0.17414909,\n",
              "          0.8363528 , -0.64138733],\n",
              "        [-0.86714563,  1.35076286,  0.00715899, ...,  0.08768643,\n",
              "          1.79289497, -2.03982074],\n",
              "        ...,\n",
              "        [ 0.        ,  0.        ,  0.        , ...,  0.        ,\n",
              "          0.        ,  0.        ],\n",
              "        [ 0.        ,  0.        ,  0.        , ...,  0.        ,\n",
              "          0.        ,  0.        ],\n",
              "        [ 0.        ,  0.        ,  0.        , ...,  0.        ,\n",
              "          0.        ,  0.        ]])"
            ]
          },
          "metadata": {},
          "execution_count": 259
        }
      ]
    },
    {
      "cell_type": "code",
      "source": [
        "del mmap"
      ],
      "metadata": {
        "id": "JEA5Yt4nAIL_"
      },
      "execution_count": 260,
      "outputs": []
    },
    {
      "cell_type": "code",
      "source": [
        "mmap = np.memmap('mymap', dtype= 'float64', mode= 'r+', shape= (10000, 10000))"
      ],
      "metadata": {
        "id": "1POVucAfALUU"
      },
      "execution_count": 261,
      "outputs": []
    },
    {
      "cell_type": "code",
      "source": [
        "mmap"
      ],
      "metadata": {
        "colab": {
          "base_uri": "https://localhost:8080/"
        },
        "id": "VvUnAEQ6AfbB",
        "outputId": "23f9ae06-d49e-45f6-8b9f-3b71d47d52a2"
      },
      "execution_count": 262,
      "outputs": [
        {
          "output_type": "execute_result",
          "data": {
            "text/plain": [
              "memmap([[ 0.87261505, -0.43904416,  0.36104378, ..., -0.58223029,\n",
              "          1.77299113, -0.06148116],\n",
              "        [ 0.19793309,  2.54419456,  0.9167002 , ...,  0.17414909,\n",
              "          0.8363528 , -0.64138733],\n",
              "        [-0.86714563,  1.35076286,  0.00715899, ...,  0.08768643,\n",
              "          1.79289497, -2.03982074],\n",
              "        ...,\n",
              "        [ 0.        ,  0.        ,  0.        , ...,  0.        ,\n",
              "          0.        ,  0.        ],\n",
              "        [ 0.        ,  0.        ,  0.        , ...,  0.        ,\n",
              "          0.        ,  0.        ],\n",
              "        [ 0.        ,  0.        ,  0.        , ...,  0.        ,\n",
              "          0.        ,  0.        ]])"
            ]
          },
          "metadata": {},
          "execution_count": 262
        }
      ]
    },
    {
      "cell_type": "code",
      "source": [
        "!rm mymap"
      ],
      "metadata": {
        "id": "yd_noucpAgPx"
      },
      "execution_count": 263,
      "outputs": []
    },
    {
      "cell_type": "code",
      "source": [
        "arr_c = np.ones((100, 10000), order= 'C')"
      ],
      "metadata": {
        "id": "sC61L2WRAiIg"
      },
      "execution_count": 264,
      "outputs": []
    },
    {
      "cell_type": "code",
      "source": [
        "arr_f = np.ones((100, 10000), order= 'F')"
      ],
      "metadata": {
        "id": "fjLnNUGFCRd7"
      },
      "execution_count": 265,
      "outputs": []
    },
    {
      "cell_type": "code",
      "source": [
        "arr_c.flags"
      ],
      "metadata": {
        "colab": {
          "base_uri": "https://localhost:8080/"
        },
        "id": "llGHs7xTCUcb",
        "outputId": "88922671-d0d5-44ca-f860-71daba268981"
      },
      "execution_count": 266,
      "outputs": [
        {
          "output_type": "execute_result",
          "data": {
            "text/plain": [
              "  C_CONTIGUOUS : True\n",
              "  F_CONTIGUOUS : False\n",
              "  OWNDATA : True\n",
              "  WRITEABLE : True\n",
              "  ALIGNED : True\n",
              "  WRITEBACKIFCOPY : False"
            ]
          },
          "metadata": {},
          "execution_count": 266
        }
      ]
    },
    {
      "cell_type": "code",
      "source": [
        "arr_f.flags"
      ],
      "metadata": {
        "colab": {
          "base_uri": "https://localhost:8080/"
        },
        "id": "MnW24RmACVir",
        "outputId": "9462a322-4e92-46b1-a760-a578c6a1f6f8"
      },
      "execution_count": 267,
      "outputs": [
        {
          "output_type": "execute_result",
          "data": {
            "text/plain": [
              "  C_CONTIGUOUS : False\n",
              "  F_CONTIGUOUS : True\n",
              "  OWNDATA : True\n",
              "  WRITEABLE : True\n",
              "  ALIGNED : True\n",
              "  WRITEBACKIFCOPY : False"
            ]
          },
          "metadata": {},
          "execution_count": 267
        }
      ]
    },
    {
      "cell_type": "code",
      "source": [
        "arr_c.flags.c_contiguous"
      ],
      "metadata": {
        "colab": {
          "base_uri": "https://localhost:8080/"
        },
        "id": "M8sirU4RCWv4",
        "outputId": "0bb8d8a7-5a8a-42fb-f7af-485c6edb16b5"
      },
      "execution_count": 268,
      "outputs": [
        {
          "output_type": "execute_result",
          "data": {
            "text/plain": [
              "True"
            ]
          },
          "metadata": {},
          "execution_count": 268
        }
      ]
    },
    {
      "cell_type": "code",
      "source": [
        "%timeit arr_c.sum(axis= 1)"
      ],
      "metadata": {
        "colab": {
          "base_uri": "https://localhost:8080/"
        },
        "id": "NfdFtQ7WCcNU",
        "outputId": "037b4ab0-976b-4dbc-f16a-f2df9978447e"
      },
      "execution_count": 271,
      "outputs": [
        {
          "output_type": "stream",
          "name": "stdout",
          "text": [
            "401 µs ± 16.6 µs per loop (mean ± std. dev. of 7 runs, 1000 loops each)\n"
          ]
        }
      ]
    },
    {
      "cell_type": "code",
      "source": [
        "%timeit arr_f.sum(axis= 1)"
      ],
      "metadata": {
        "colab": {
          "base_uri": "https://localhost:8080/"
        },
        "id": "Oaz-oXFSChv9",
        "outputId": "5116fe66-6043-41c5-cac3-053922a3db68"
      },
      "execution_count": 272,
      "outputs": [
        {
          "output_type": "stream",
          "name": "stdout",
          "text": [
            "931 µs ± 151 µs per loop (mean ± std. dev. of 7 runs, 1000 loops each)\n"
          ]
        }
      ]
    },
    {
      "cell_type": "code",
      "source": [
        "arr_f.copy('C').flags"
      ],
      "metadata": {
        "colab": {
          "base_uri": "https://localhost:8080/"
        },
        "id": "r1Wp95bVCjcT",
        "outputId": "7920e9d7-0564-4a4d-9de4-6a40494cff52"
      },
      "execution_count": 273,
      "outputs": [
        {
          "output_type": "execute_result",
          "data": {
            "text/plain": [
              "  C_CONTIGUOUS : True\n",
              "  F_CONTIGUOUS : False\n",
              "  OWNDATA : True\n",
              "  WRITEABLE : True\n",
              "  ALIGNED : True\n",
              "  WRITEBACKIFCOPY : False"
            ]
          },
          "metadata": {},
          "execution_count": 273
        }
      ]
    },
    {
      "cell_type": "code",
      "source": [
        "arr_c[:50].flags.contiguous"
      ],
      "metadata": {
        "colab": {
          "base_uri": "https://localhost:8080/"
        },
        "id": "MvFheqZ7C6ew",
        "outputId": "7f3b34a6-3983-4348-a4c3-34c2943890a2"
      },
      "execution_count": 275,
      "outputs": [
        {
          "output_type": "execute_result",
          "data": {
            "text/plain": [
              "True"
            ]
          },
          "metadata": {},
          "execution_count": 275
        }
      ]
    },
    {
      "cell_type": "code",
      "source": [
        "arr_f[:, :50].flags.contiguous"
      ],
      "metadata": {
        "colab": {
          "base_uri": "https://localhost:8080/"
        },
        "id": "k_EOEq_TDB47",
        "outputId": "2b6f1be9-4bd0-4a79-8e77-d59f7851ae1b"
      },
      "execution_count": 276,
      "outputs": [
        {
          "output_type": "execute_result",
          "data": {
            "text/plain": [
              "False"
            ]
          },
          "metadata": {},
          "execution_count": 276
        }
      ]
    },
    {
      "cell_type": "code",
      "source": [],
      "metadata": {
        "id": "3ag49lXIDG6d"
      },
      "execution_count": null,
      "outputs": []
    }
  ]
}